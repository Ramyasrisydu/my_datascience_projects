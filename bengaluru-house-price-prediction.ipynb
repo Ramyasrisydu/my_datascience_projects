{
 "cells": [
  {
   "cell_type": "markdown",
   "id": "72847149",
   "metadata": {},
   "source": [
    "Data Requirement & Collection,Understanding"
   ]
  },
  {
   "cell_type": "code",
   "execution_count": 1,
   "id": "41d810be",
   "metadata": {
    "execution": {
     "iopub.execute_input": "2022-11-20T05:19:46.886859Z",
     "iopub.status.busy": "2022-11-20T05:19:46.886467Z",
     "iopub.status.idle": "2022-11-20T05:19:46.892550Z",
     "shell.execute_reply": "2022-11-20T05:19:46.891716Z"
    },
    "papermill": {
     "duration": 0.025373,
     "end_time": "2022-11-20T05:19:46.894964",
     "exception": false,
     "start_time": "2022-11-20T05:19:46.869591",
     "status": "completed"
    },
    "tags": []
   },
   "outputs": [],
   "source": [
    "# Importing necessary liabraries\n",
    "\n",
    "import pandas as pd\n",
    "import numpy as np\n",
    "import matplotlib.pyplot as plt\n",
    "%matplotlib inline\n",
    "import matplotlib\n",
    "import seaborn as sns\n",
    "\n",
    "#Ignore warnings\n",
    "import warnings\n",
    "warnings.filterwarnings('ignore')\n",
    "warnings.filterwarnings('always')"
   ]
  },
  {
   "cell_type": "code",
   "execution_count": 2,
   "id": "acff805e",
   "metadata": {
    "execution": {
     "iopub.execute_input": "2022-11-20T05:19:46.930055Z",
     "iopub.status.busy": "2022-11-20T05:19:46.929441Z",
     "iopub.status.idle": "2022-11-20T05:19:46.999421Z",
     "shell.execute_reply": "2022-11-20T05:19:46.998736Z"
    },
    "papermill": {
     "duration": 0.089019,
     "end_time": "2022-11-20T05:19:47.001226",
     "exception": false,
     "start_time": "2022-11-20T05:19:46.912207",
     "status": "completed"
    },
    "tags": []
   },
   "outputs": [],
   "source": [
    "#importing data set\n",
    "df1 = pd.read_csv(\"C:/Users/ramya/Downloads/Copy of Bengaluru_House_Data.csv\")"
   ]
  },
  {
   "cell_type": "markdown",
   "id": "62513fdd",
   "metadata": {},
   "source": [
    "Preprocessing of data"
   ]
  },
  {
   "cell_type": "code",
   "execution_count": 3,
   "id": "1183f85a",
   "metadata": {},
   "outputs": [
    {
     "data": {
      "text/html": [
       "<div>\n",
       "<style scoped>\n",
       "    .dataframe tbody tr th:only-of-type {\n",
       "        vertical-align: middle;\n",
       "    }\n",
       "\n",
       "    .dataframe tbody tr th {\n",
       "        vertical-align: top;\n",
       "    }\n",
       "\n",
       "    .dataframe thead th {\n",
       "        text-align: right;\n",
       "    }\n",
       "</style>\n",
       "<table border=\"1\" class=\"dataframe\">\n",
       "  <thead>\n",
       "    <tr style=\"text-align: right;\">\n",
       "      <th></th>\n",
       "      <th>area_type</th>\n",
       "      <th>availability</th>\n",
       "      <th>location</th>\n",
       "      <th>size</th>\n",
       "      <th>society</th>\n",
       "      <th>total_sqft</th>\n",
       "      <th>bath</th>\n",
       "      <th>balcony</th>\n",
       "      <th>price</th>\n",
       "    </tr>\n",
       "  </thead>\n",
       "  <tbody>\n",
       "    <tr>\n",
       "      <th>0</th>\n",
       "      <td>Super built-up  Area</td>\n",
       "      <td>19-Dec</td>\n",
       "      <td>Electronic City Phase II</td>\n",
       "      <td>2 BHK</td>\n",
       "      <td>Coomee</td>\n",
       "      <td>1056</td>\n",
       "      <td>2.0</td>\n",
       "      <td>1.0</td>\n",
       "      <td>39.07</td>\n",
       "    </tr>\n",
       "    <tr>\n",
       "      <th>1</th>\n",
       "      <td>Plot  Area</td>\n",
       "      <td>Ready To Move</td>\n",
       "      <td>Chikka Tirupathi</td>\n",
       "      <td>4 Bedroom</td>\n",
       "      <td>Theanmp</td>\n",
       "      <td>2600</td>\n",
       "      <td>5.0</td>\n",
       "      <td>3.0</td>\n",
       "      <td>120.00</td>\n",
       "    </tr>\n",
       "    <tr>\n",
       "      <th>2</th>\n",
       "      <td>Built-up  Area</td>\n",
       "      <td>Ready To Move</td>\n",
       "      <td>Uttarahalli</td>\n",
       "      <td>3 BHK</td>\n",
       "      <td>NaN</td>\n",
       "      <td>1440</td>\n",
       "      <td>2.0</td>\n",
       "      <td>3.0</td>\n",
       "      <td>62.00</td>\n",
       "    </tr>\n",
       "    <tr>\n",
       "      <th>3</th>\n",
       "      <td>Super built-up  Area</td>\n",
       "      <td>Ready To Move</td>\n",
       "      <td>Lingadheeranahalli</td>\n",
       "      <td>3 BHK</td>\n",
       "      <td>Soiewre</td>\n",
       "      <td>1521</td>\n",
       "      <td>3.0</td>\n",
       "      <td>1.0</td>\n",
       "      <td>95.00</td>\n",
       "    </tr>\n",
       "    <tr>\n",
       "      <th>4</th>\n",
       "      <td>Super built-up  Area</td>\n",
       "      <td>Ready To Move</td>\n",
       "      <td>Kothanur</td>\n",
       "      <td>2 BHK</td>\n",
       "      <td>NaN</td>\n",
       "      <td>1200</td>\n",
       "      <td>2.0</td>\n",
       "      <td>1.0</td>\n",
       "      <td>51.00</td>\n",
       "    </tr>\n",
       "    <tr>\n",
       "      <th>5</th>\n",
       "      <td>Super built-up  Area</td>\n",
       "      <td>Ready To Move</td>\n",
       "      <td>Whitefield</td>\n",
       "      <td>2 BHK</td>\n",
       "      <td>DuenaTa</td>\n",
       "      <td>1170</td>\n",
       "      <td>2.0</td>\n",
       "      <td>1.0</td>\n",
       "      <td>38.00</td>\n",
       "    </tr>\n",
       "  </tbody>\n",
       "</table>\n",
       "</div>"
      ],
      "text/plain": [
       "              area_type   availability                  location       size  \\\n",
       "0  Super built-up  Area         19-Dec  Electronic City Phase II      2 BHK   \n",
       "1            Plot  Area  Ready To Move          Chikka Tirupathi  4 Bedroom   \n",
       "2        Built-up  Area  Ready To Move               Uttarahalli      3 BHK   \n",
       "3  Super built-up  Area  Ready To Move        Lingadheeranahalli      3 BHK   \n",
       "4  Super built-up  Area  Ready To Move                  Kothanur      2 BHK   \n",
       "5  Super built-up  Area  Ready To Move                Whitefield      2 BHK   \n",
       "\n",
       "   society total_sqft  bath  balcony   price  \n",
       "0  Coomee        1056   2.0      1.0   39.07  \n",
       "1  Theanmp       2600   5.0      3.0  120.00  \n",
       "2      NaN       1440   2.0      3.0   62.00  \n",
       "3  Soiewre       1521   3.0      1.0   95.00  \n",
       "4      NaN       1200   2.0      1.0   51.00  \n",
       "5  DuenaTa       1170   2.0      1.0   38.00  "
      ]
     },
     "execution_count": 3,
     "metadata": {},
     "output_type": "execute_result"
    }
   ],
   "source": [
    "df1.head(6)"
   ]
  },
  {
   "cell_type": "code",
   "execution_count": 4,
   "id": "02759f5b",
   "metadata": {
    "execution": {
     "iopub.execute_input": "2022-11-20T05:19:47.036587Z",
     "iopub.status.busy": "2022-11-20T05:19:47.035977Z",
     "iopub.status.idle": "2022-11-20T05:19:47.042286Z",
     "shell.execute_reply": "2022-11-20T05:19:47.041369Z"
    },
    "papermill": {
     "duration": 0.026663,
     "end_time": "2022-11-20T05:19:47.044143",
     "exception": false,
     "start_time": "2022-11-20T05:19:47.017480",
     "status": "completed"
    },
    "tags": []
   },
   "outputs": [
    {
     "data": {
      "text/plain": [
       "(13320, 9)"
      ]
     },
     "execution_count": 4,
     "metadata": {},
     "output_type": "execute_result"
    }
   ],
   "source": [
    "df1.shape"
   ]
  },
  {
   "cell_type": "code",
   "execution_count": 5,
   "id": "63fa7216",
   "metadata": {},
   "outputs": [
    {
     "name": "stdout",
     "output_type": "stream",
     "text": [
      "<class 'pandas.core.frame.DataFrame'>\n",
      "RangeIndex: 13320 entries, 0 to 13319\n",
      "Data columns (total 9 columns):\n",
      " #   Column        Non-Null Count  Dtype  \n",
      "---  ------        --------------  -----  \n",
      " 0   area_type     13320 non-null  object \n",
      " 1   availability  13320 non-null  object \n",
      " 2   location      13319 non-null  object \n",
      " 3   size          13304 non-null  object \n",
      " 4   society       7818 non-null   object \n",
      " 5   total_sqft    13320 non-null  object \n",
      " 6   bath          13247 non-null  float64\n",
      " 7   balcony       12711 non-null  float64\n",
      " 8   price         13320 non-null  float64\n",
      "dtypes: float64(3), object(6)\n",
      "memory usage: 936.7+ KB\n"
     ]
    }
   ],
   "source": [
    "df1.info()"
   ]
  },
  {
   "cell_type": "code",
   "execution_count": 6,
   "id": "7856c61e",
   "metadata": {},
   "outputs": [
    {
     "data": {
      "text/html": [
       "<div>\n",
       "<style scoped>\n",
       "    .dataframe tbody tr th:only-of-type {\n",
       "        vertical-align: middle;\n",
       "    }\n",
       "\n",
       "    .dataframe tbody tr th {\n",
       "        vertical-align: top;\n",
       "    }\n",
       "\n",
       "    .dataframe thead th {\n",
       "        text-align: right;\n",
       "    }\n",
       "</style>\n",
       "<table border=\"1\" class=\"dataframe\">\n",
       "  <thead>\n",
       "    <tr style=\"text-align: right;\">\n",
       "      <th></th>\n",
       "      <th>count</th>\n",
       "      <th>mean</th>\n",
       "      <th>std</th>\n",
       "      <th>min</th>\n",
       "      <th>25%</th>\n",
       "      <th>50%</th>\n",
       "      <th>75%</th>\n",
       "      <th>max</th>\n",
       "    </tr>\n",
       "  </thead>\n",
       "  <tbody>\n",
       "    <tr>\n",
       "      <th>bath</th>\n",
       "      <td>13247.0</td>\n",
       "      <td>2.692610</td>\n",
       "      <td>1.341458</td>\n",
       "      <td>1.0</td>\n",
       "      <td>2.0</td>\n",
       "      <td>2.0</td>\n",
       "      <td>3.0</td>\n",
       "      <td>40.0</td>\n",
       "    </tr>\n",
       "    <tr>\n",
       "      <th>balcony</th>\n",
       "      <td>12711.0</td>\n",
       "      <td>1.584376</td>\n",
       "      <td>0.817263</td>\n",
       "      <td>0.0</td>\n",
       "      <td>1.0</td>\n",
       "      <td>2.0</td>\n",
       "      <td>2.0</td>\n",
       "      <td>3.0</td>\n",
       "    </tr>\n",
       "    <tr>\n",
       "      <th>price</th>\n",
       "      <td>13320.0</td>\n",
       "      <td>112.565627</td>\n",
       "      <td>148.971674</td>\n",
       "      <td>8.0</td>\n",
       "      <td>50.0</td>\n",
       "      <td>72.0</td>\n",
       "      <td>120.0</td>\n",
       "      <td>3600.0</td>\n",
       "    </tr>\n",
       "  </tbody>\n",
       "</table>\n",
       "</div>"
      ],
      "text/plain": [
       "           count        mean         std  min   25%   50%    75%     max\n",
       "bath     13247.0    2.692610    1.341458  1.0   2.0   2.0    3.0    40.0\n",
       "balcony  12711.0    1.584376    0.817263  0.0   1.0   2.0    2.0     3.0\n",
       "price    13320.0  112.565627  148.971674  8.0  50.0  72.0  120.0  3600.0"
      ]
     },
     "execution_count": 6,
     "metadata": {},
     "output_type": "execute_result"
    }
   ],
   "source": [
    "df1.describe().T"
   ]
  },
  {
   "cell_type": "markdown",
   "id": "c93d6b62",
   "metadata": {},
   "source": [
    "Data Visualization"
   ]
  },
  {
   "cell_type": "code",
   "execution_count": 7,
   "id": "69cc3c6c",
   "metadata": {},
   "outputs": [
    {
     "name": "stderr",
     "output_type": "stream",
     "text": [
      "C:\\Users\\ramya\\anaconda3\\lib\\site-packages\\seaborn\\_decorators.py:36: FutureWarning: Pass the following variable as a keyword arg: x. From version 0.12, the only valid positional argument will be `data`, and passing other arguments without an explicit keyword will result in an error or misinterpretation.\n",
      "  warnings.warn(\n"
     ]
    },
    {
     "data": {
      "text/plain": [
       "<AxesSubplot:xlabel='area_type', ylabel='count'>"
      ]
     },
     "execution_count": 7,
     "metadata": {},
     "output_type": "execute_result"
    },
    {
     "data": {
      "image/png": "[encoded data removed]",
      "text/plain": [
       "<Figure size 432x288 with 1 Axes>"
      ]
     },
     "metadata": {
      "needs_background": "light"
     },
     "output_type": "display_data"
    }
   ],
   "source": [
    "plt1 = df1.groupby('area_type')['area_type'].agg('count')\n",
    "sns.countplot(plt1)"
   ]
  },
  {
   "cell_type": "code",
   "execution_count": 8,
   "id": "d0dbf975",
   "metadata": {},
   "outputs": [
    {
     "name": "stderr",
     "output_type": "stream",
     "text": [
      "C:\\Users\\ramya\\anaconda3\\lib\\site-packages\\seaborn\\_decorators.py:36: FutureWarning: Pass the following variable as a keyword arg: x. From version 0.12, the only valid positional argument will be `data`, and passing other arguments without an explicit keyword will result in an error or misinterpretation.\n",
      "  warnings.warn(\n"
     ]
    },
    {
     "data": {
      "text/plain": [
       "<AxesSubplot:xlabel='area_type', ylabel='count'>"
      ]
     },
     "execution_count": 8,
     "metadata": {},
     "output_type": "execute_result"
    },
    {
     "data": {
      "image/png": "[encoded data removed]",
      "text/plain": [
       "<Figure size 432x432 with 1 Axes>"
      ]
     },
     "metadata": {
      "needs_background": "light"
     },
     "output_type": "display_data"
    }
   ],
   "source": [
    "plt.figure(figsize = (6,6))\n",
    "sns.countplot(df1['area_type'],palette=\"rainbow\")"
   ]
  },
  {
   "cell_type": "code",
   "execution_count": 9,
   "id": "3c712521",
   "metadata": {},
   "outputs": [
    {
     "name": "stderr",
     "output_type": "stream",
     "text": [
      "C:\\Users\\ramya\\anaconda3\\lib\\site-packages\\seaborn\\_decorators.py:36: FutureWarning: Pass the following variable as a keyword arg: x. From version 0.12, the only valid positional argument will be `data`, and passing other arguments without an explicit keyword will result in an error or misinterpretation.\n",
      "  warnings.warn(\n"
     ]
    },
    {
     "data": {
      "image/png": "[encoded data removed]",
      "text/plain": [
       "<Figure size 432x288 with 1 Axes>"
      ]
     },
     "metadata": {
      "needs_background": "light"
     },
     "output_type": "display_data"
    }
   ],
   "source": [
    "plot = sns.boxplot(df1[\"price\"])\n",
    "plt.show()"
   ]
  },
  {
   "cell_type": "code",
   "execution_count": 10,
   "id": "59f52de5",
   "metadata": {},
   "outputs": [
    {
     "name": "stderr",
     "output_type": "stream",
     "text": [
      "C:\\Users\\ramya\\anaconda3\\lib\\site-packages\\seaborn\\_decorators.py:36: FutureWarning: Pass the following variable as a keyword arg: x. From version 0.12, the only valid positional argument will be `data`, and passing other arguments without an explicit keyword will result in an error or misinterpretation.\n",
      "  warnings.warn(\n"
     ]
    },
    {
     "data": {
      "image/png": "[encoded data removed]",
      "text/plain": [
       "<Figure size 432x288 with 1 Axes>"
      ]
     },
     "metadata": {
      "needs_background": "light"
     },
     "output_type": "display_data"
    }
   ],
   "source": [
    "plot = sns.boxplot(df1[\"balcony\"])\n",
    "plt.show()"
   ]
  },
  {
   "cell_type": "code",
   "execution_count": 11,
   "id": "cb1e8f04",
   "metadata": {},
   "outputs": [
    {
     "name": "stderr",
     "output_type": "stream",
     "text": [
      "C:\\Users\\ramya\\anaconda3\\lib\\site-packages\\seaborn\\_decorators.py:36: FutureWarning: Pass the following variable as a keyword arg: x. From version 0.12, the only valid positional argument will be `data`, and passing other arguments without an explicit keyword will result in an error or misinterpretation.\n",
      "  warnings.warn(\n"
     ]
    },
    {
     "data": {
      "image/png": "[encoded data removed]",
      "text/plain": [
       "<Figure size 432x288 with 1 Axes>"
      ]
     },
     "metadata": {
      "needs_background": "light"
     },
     "output_type": "display_data"
    }
   ],
   "source": [
    "plot = sns.boxplot(df1[\"bath\"])\n",
    "plt.show()"
   ]
  },
  {
   "cell_type": "code",
   "execution_count": 12,
   "id": "95ef9723",
   "metadata": {},
   "outputs": [],
   "source": [
    "def remove_outlier_IQR(data_set):\n",
    "    Q1=data_set.quantile(0.25)\n",
    "    Q3=data_set.quantile(0.75)\n",
    "    IQR=Q3-Q1\n",
    "    data_final=data_set[~((data_set<(Q1-1.5*IQR)) | (data_set>(Q3+1.5*IQR)))]\n",
    "    return data_final"
   ]
  },
  {
   "cell_type": "code",
   "execution_count": 13,
   "id": "3c1dae16",
   "metadata": {},
   "outputs": [
    {
     "name": "stderr",
     "output_type": "stream",
     "text": [
      "C:\\Users\\ramya\\AppData\\Local\\Temp\\ipykernel_26396\\1214380565.py:5: FutureWarning: Automatic reindexing on DataFrame vs Series comparisons is deprecated and will raise ValueError in a future version. Do `left, right = left.align(right, axis=1, copy=False)` before e.g. `left == right`\n",
      "  data_final=data_set[~((data_set<(Q1-1.5*IQR)) | (data_set>(Q3+1.5*IQR)))]\n",
      "C:\\Users\\ramya\\AppData\\Local\\Temp\\ipykernel_26396\\1214380565.py:5: FutureWarning: Automatic reindexing on DataFrame vs Series comparisons is deprecated and will raise ValueError in a future version. Do `left, right = left.align(right, axis=1, copy=False)` before e.g. `left == right`\n",
      "  data_final=data_set[~((data_set<(Q1-1.5*IQR)) | (data_set>(Q3+1.5*IQR)))]\n"
     ]
    }
   ],
   "source": [
    "plt2 = remove_outlier_IQR(df1)"
   ]
  },
  {
   "cell_type": "code",
   "execution_count": 14,
   "id": "6c231193",
   "metadata": {},
   "outputs": [
    {
     "name": "stderr",
     "output_type": "stream",
     "text": [
      "C:\\Users\\ramya\\anaconda3\\lib\\site-packages\\seaborn\\_decorators.py:36: FutureWarning: Pass the following variable as a keyword arg: x. From version 0.12, the only valid positional argument will be `data`, and passing other arguments without an explicit keyword will result in an error or misinterpretation.\n",
      "  warnings.warn(\n"
     ]
    },
    {
     "data": {
      "image/png": "[encoded data removed]",
      "text/plain": [
       "<Figure size 432x288 with 1 Axes>"
      ]
     },
     "metadata": {
      "needs_background": "light"
     },
     "output_type": "display_data"
    }
   ],
   "source": [
    "plot = sns.boxplot(plt2[\"bath\"])\n",
    "plt.show()"
   ]
  },
  {
   "cell_type": "code",
   "execution_count": 15,
   "id": "b84624d6",
   "metadata": {},
   "outputs": [
    {
     "name": "stderr",
     "output_type": "stream",
     "text": [
      "C:\\Users\\ramya\\anaconda3\\lib\\site-packages\\seaborn\\_decorators.py:36: FutureWarning: Pass the following variable as a keyword arg: x. From version 0.12, the only valid positional argument will be `data`, and passing other arguments without an explicit keyword will result in an error or misinterpretation.\n",
      "  warnings.warn(\n"
     ]
    },
    {
     "data": {
      "image/png": "[encoded data removed]",
      "text/plain": [
       "<Figure size 432x288 with 1 Axes>"
      ]
     },
     "metadata": {
      "needs_background": "light"
     },
     "output_type": "display_data"
    }
   ],
   "source": [
    "plot = sns.boxplot(plt2[\"price\"])\n",
    "plt.show()"
   ]
  },
  {
   "cell_type": "markdown",
   "id": "46dd9316",
   "metadata": {},
   "source": [
    "Data Cleaning"
   ]
  },
  {
   "cell_type": "code",
   "execution_count": 16,
   "id": "d1fcde55",
   "metadata": {
    "execution": {
     "iopub.execute_input": "2022-11-20T05:19:47.080032Z",
     "iopub.status.busy": "2022-11-20T05:19:47.078634Z",
     "iopub.status.idle": "2022-11-20T05:19:47.095056Z",
     "shell.execute_reply": "2022-11-20T05:19:47.094156Z"
    },
    "papermill": {
     "duration": 0.036236,
     "end_time": "2022-11-20T05:19:47.097202",
     "exception": false,
     "start_time": "2022-11-20T05:19:47.060966",
     "status": "completed"
    },
    "tags": []
   },
   "outputs": [
    {
     "data": {
      "text/plain": [
       "Super built-up  Area    8790\n",
       "Built-up  Area          2418\n",
       "Plot  Area              2025\n",
       "Carpet  Area              87\n",
       "Name: area_type, dtype: int64"
      ]
     },
     "execution_count": 16,
     "metadata": {},
     "output_type": "execute_result"
    }
   ],
   "source": [
    "df1[\"area_type\"].value_counts()"
   ]
  },
  {
   "cell_type": "code",
   "execution_count": 17,
   "id": "69a4350e",
   "metadata": {
    "execution": {
     "iopub.execute_input": "2022-11-20T05:19:47.139159Z",
     "iopub.status.busy": "2022-11-20T05:19:47.138795Z",
     "iopub.status.idle": "2022-11-20T05:19:47.146253Z",
     "shell.execute_reply": "2022-11-20T05:19:47.144816Z"
    },
    "papermill": {
     "duration": 0.031492,
     "end_time": "2022-11-20T05:19:47.148876",
     "exception": false,
     "start_time": "2022-11-20T05:19:47.117384",
     "status": "completed"
    },
    "tags": []
   },
   "outputs": [
    {
     "data": {
      "text/plain": [
       "Index(['area_type', 'availability', 'location', 'size', 'society',\n",
       "       'total_sqft', 'bath', 'balcony', 'price'],\n",
       "      dtype='object')"
      ]
     },
     "execution_count": 17,
     "metadata": {},
     "output_type": "execute_result"
    }
   ],
   "source": [
    "df1.columns"
   ]
  },
  {
   "cell_type": "code",
   "execution_count": 18,
   "id": "aa71124f",
   "metadata": {
    "execution": {
     "iopub.execute_input": "2022-11-20T05:19:47.184260Z",
     "iopub.status.busy": "2022-11-20T05:19:47.183798Z",
     "iopub.status.idle": "2022-11-20T05:19:47.188139Z",
     "shell.execute_reply": "2022-11-20T05:19:47.186817Z"
    },
    "papermill": {
     "duration": 0.025285,
     "end_time": "2022-11-20T05:19:47.190545",
     "exception": false,
     "start_time": "2022-11-20T05:19:47.165260",
     "status": "completed"
    },
    "tags": []
   },
   "outputs": [],
   "source": [
    "## Droping the features which are not required"
   ]
  },
  {
   "cell_type": "code",
   "execution_count": 19,
   "id": "f236c5f0",
   "metadata": {
    "execution": {
     "iopub.execute_input": "2022-11-20T05:19:47.225009Z",
     "iopub.status.busy": "2022-11-20T05:19:47.223885Z",
     "iopub.status.idle": "2022-11-20T05:19:47.242571Z",
     "shell.execute_reply": "2022-11-20T05:19:47.241446Z"
    },
    "papermill": {
     "duration": 0.038482,
     "end_time": "2022-11-20T05:19:47.245332",
     "exception": false,
     "start_time": "2022-11-20T05:19:47.206850",
     "status": "completed"
    },
    "tags": []
   },
   "outputs": [
    {
     "data": {
      "text/html": [
       "<div>\n",
       "<style scoped>\n",
       "    .dataframe tbody tr th:only-of-type {\n",
       "        vertical-align: middle;\n",
       "    }\n",
       "\n",
       "    .dataframe tbody tr th {\n",
       "        vertical-align: top;\n",
       "    }\n",
       "\n",
       "    .dataframe thead th {\n",
       "        text-align: right;\n",
       "    }\n",
       "</style>\n",
       "<table border=\"1\" class=\"dataframe\">\n",
       "  <thead>\n",
       "    <tr style=\"text-align: right;\">\n",
       "      <th></th>\n",
       "      <th>location</th>\n",
       "      <th>size</th>\n",
       "      <th>total_sqft</th>\n",
       "      <th>bath</th>\n",
       "      <th>price</th>\n",
       "    </tr>\n",
       "  </thead>\n",
       "  <tbody>\n",
       "    <tr>\n",
       "      <th>0</th>\n",
       "      <td>Electronic City Phase II</td>\n",
       "      <td>2 BHK</td>\n",
       "      <td>1056</td>\n",
       "      <td>2.0</td>\n",
       "      <td>39.07</td>\n",
       "    </tr>\n",
       "    <tr>\n",
       "      <th>1</th>\n",
       "      <td>Chikka Tirupathi</td>\n",
       "      <td>4 Bedroom</td>\n",
       "      <td>2600</td>\n",
       "      <td>5.0</td>\n",
       "      <td>120.00</td>\n",
       "    </tr>\n",
       "    <tr>\n",
       "      <th>2</th>\n",
       "      <td>Uttarahalli</td>\n",
       "      <td>3 BHK</td>\n",
       "      <td>1440</td>\n",
       "      <td>2.0</td>\n",
       "      <td>62.00</td>\n",
       "    </tr>\n",
       "    <tr>\n",
       "      <th>3</th>\n",
       "      <td>Lingadheeranahalli</td>\n",
       "      <td>3 BHK</td>\n",
       "      <td>1521</td>\n",
       "      <td>3.0</td>\n",
       "      <td>95.00</td>\n",
       "    </tr>\n",
       "    <tr>\n",
       "      <th>4</th>\n",
       "      <td>Kothanur</td>\n",
       "      <td>2 BHK</td>\n",
       "      <td>1200</td>\n",
       "      <td>2.0</td>\n",
       "      <td>51.00</td>\n",
       "    </tr>\n",
       "  </tbody>\n",
       "</table>\n",
       "</div>"
      ],
      "text/plain": [
       "                   location       size total_sqft  bath   price\n",
       "0  Electronic City Phase II      2 BHK       1056   2.0   39.07\n",
       "1          Chikka Tirupathi  4 Bedroom       2600   5.0  120.00\n",
       "2               Uttarahalli      3 BHK       1440   2.0   62.00\n",
       "3        Lingadheeranahalli      3 BHK       1521   3.0   95.00\n",
       "4                  Kothanur      2 BHK       1200   2.0   51.00"
      ]
     },
     "execution_count": 19,
     "metadata": {},
     "output_type": "execute_result"
    }
   ],
   "source": [
    "df2 = df1.drop([\"area_type\",\"availability\",\"society\",\"balcony\",\"availability\"], axis = 1)\n",
    "df2.head()"
   ]
  },
  {
   "cell_type": "code",
   "execution_count": 20,
   "id": "d85bb493",
   "metadata": {
    "execution": {
     "iopub.execute_input": "2022-11-20T05:19:47.280007Z",
     "iopub.status.busy": "2022-11-20T05:19:47.279701Z",
     "iopub.status.idle": "2022-11-20T05:19:47.283907Z",
     "shell.execute_reply": "2022-11-20T05:19:47.282569Z"
    },
    "papermill": {
     "duration": 0.024058,
     "end_time": "2022-11-20T05:19:47.286177",
     "exception": false,
     "start_time": "2022-11-20T05:19:47.262119",
     "status": "completed"
    },
    "tags": []
   },
   "outputs": [],
   "source": [
    "## Checking and Handling the Null Values"
   ]
  },
  {
   "cell_type": "code",
   "execution_count": 21,
   "id": "f86784be",
   "metadata": {
    "execution": {
     "iopub.execute_input": "2022-11-20T05:19:47.320341Z",
     "iopub.status.busy": "2022-11-20T05:19:47.319737Z",
     "iopub.status.idle": "2022-11-20T05:19:47.329084Z",
     "shell.execute_reply": "2022-11-20T05:19:47.328169Z"
    },
    "papermill": {
     "duration": 0.02852,
     "end_time": "2022-11-20T05:19:47.330806",
     "exception": false,
     "start_time": "2022-11-20T05:19:47.302286",
     "status": "completed"
    },
    "tags": []
   },
   "outputs": [
    {
     "data": {
      "text/plain": [
       "location       1\n",
       "size          16\n",
       "total_sqft     0\n",
       "bath          73\n",
       "price          0\n",
       "dtype: int64"
      ]
     },
     "execution_count": 21,
     "metadata": {},
     "output_type": "execute_result"
    }
   ],
   "source": [
    "df2.isnull().sum()"
   ]
  },
  {
   "cell_type": "code",
   "execution_count": 22,
   "id": "7427c675",
   "metadata": {
    "execution": {
     "iopub.execute_input": "2022-11-20T05:19:47.366684Z",
     "iopub.status.busy": "2022-11-20T05:19:47.366076Z",
     "iopub.status.idle": "2022-11-20T05:19:47.371665Z",
     "shell.execute_reply": "2022-11-20T05:19:47.370694Z"
    },
    "papermill": {
     "duration": 0.025994,
     "end_time": "2022-11-20T05:19:47.373538",
     "exception": false,
     "start_time": "2022-11-20T05:19:47.347544",
     "status": "completed"
    },
    "tags": []
   },
   "outputs": [
    {
     "data": {
      "text/plain": [
       "(13320, 5)"
      ]
     },
     "execution_count": 22,
     "metadata": {},
     "output_type": "execute_result"
    }
   ],
   "source": [
    "df2.shape"
   ]
  },
  {
   "cell_type": "code",
   "execution_count": 23,
   "id": "777b8c77",
   "metadata": {
    "execution": {
     "iopub.execute_input": "2022-11-20T05:19:47.410106Z",
     "iopub.status.busy": "2022-11-20T05:19:47.409559Z",
     "iopub.status.idle": "2022-11-20T05:19:47.424743Z",
     "shell.execute_reply": "2022-11-20T05:19:47.423810Z"
    },
    "papermill": {
     "duration": 0.035666,
     "end_time": "2022-11-20T05:19:47.426337",
     "exception": false,
     "start_time": "2022-11-20T05:19:47.390671",
     "status": "completed"
    },
    "tags": []
   },
   "outputs": [
    {
     "data": {
      "text/plain": [
       "location      0\n",
       "size          0\n",
       "total_sqft    0\n",
       "bath          0\n",
       "price         0\n",
       "dtype: int64"
      ]
     },
     "execution_count": 23,
     "metadata": {},
     "output_type": "execute_result"
    }
   ],
   "source": [
    "df3 = df2.dropna()\n",
    "df3.isnull().sum()"
   ]
  },
  {
   "cell_type": "code",
   "execution_count": 24,
   "id": "1237320c",
   "metadata": {
    "execution": {
     "iopub.execute_input": "2022-11-20T05:19:47.462156Z",
     "iopub.status.busy": "2022-11-20T05:19:47.461534Z",
     "iopub.status.idle": "2022-11-20T05:19:47.467214Z",
     "shell.execute_reply": "2022-11-20T05:19:47.465835Z"
    },
    "papermill": {
     "duration": 0.026338,
     "end_time": "2022-11-20T05:19:47.469446",
     "exception": false,
     "start_time": "2022-11-20T05:19:47.443108",
     "status": "completed"
    },
    "tags": []
   },
   "outputs": [
    {
     "data": {
      "text/plain": [
       "(13246, 5)"
      ]
     },
     "execution_count": 24,
     "metadata": {},
     "output_type": "execute_result"
    }
   ],
   "source": [
    "df3.shape"
   ]
  },
  {
   "cell_type": "code",
   "execution_count": 25,
   "id": "09102808",
   "metadata": {
    "execution": {
     "iopub.execute_input": "2022-11-20T05:19:47.505013Z",
     "iopub.status.busy": "2022-11-20T05:19:47.504435Z",
     "iopub.status.idle": "2022-11-20T05:19:47.508917Z",
     "shell.execute_reply": "2022-11-20T05:19:47.507187Z"
    },
    "papermill": {
     "duration": 0.02379,
     "end_time": "2022-11-20T05:19:47.510760",
     "exception": false,
     "start_time": "2022-11-20T05:19:47.486970",
     "status": "completed"
    },
    "tags": []
   },
   "outputs": [],
   "source": [
    "## Feature Engineering"
   ]
  },
  {
   "cell_type": "code",
   "execution_count": 26,
   "id": "6678b31e",
   "metadata": {
    "execution": {
     "iopub.execute_input": "2022-11-20T05:19:47.548244Z",
     "iopub.status.busy": "2022-11-20T05:19:47.547629Z",
     "iopub.status.idle": "2022-11-20T05:19:47.555258Z",
     "shell.execute_reply": "2022-11-20T05:19:47.554174Z"
    },
    "papermill": {
     "duration": 0.028592,
     "end_time": "2022-11-20T05:19:47.557533",
     "exception": false,
     "start_time": "2022-11-20T05:19:47.528941",
     "status": "completed"
    },
    "tags": []
   },
   "outputs": [
    {
     "data": {
      "text/plain": [
       "array(['2 BHK', '4 Bedroom', '3 BHK', '4 BHK', '6 Bedroom', '3 Bedroom',\n",
       "       '1 BHK', '1 RK', '1 Bedroom', '8 Bedroom', '2 Bedroom',\n",
       "       '7 Bedroom', '5 BHK', '7 BHK', '6 BHK', '5 Bedroom', '11 BHK',\n",
       "       '9 BHK', '9 Bedroom', '27 BHK', '10 Bedroom', '11 Bedroom',\n",
       "       '10 BHK', '19 BHK', '16 BHK', '43 Bedroom', '14 BHK', '8 BHK',\n",
       "       '12 Bedroom', '13 BHK', '18 Bedroom'], dtype=object)"
      ]
     },
     "execution_count": 26,
     "metadata": {},
     "output_type": "execute_result"
    }
   ],
   "source": [
    "df3[\"size\"].unique()"
   ]
  },
  {
   "cell_type": "code",
   "execution_count": 27,
   "id": "dbd13b1c",
   "metadata": {
    "execution": {
     "iopub.execute_input": "2022-11-20T05:19:47.593483Z",
     "iopub.status.busy": "2022-11-20T05:19:47.593123Z",
     "iopub.status.idle": "2022-11-20T05:19:47.600164Z",
     "shell.execute_reply": "2022-11-20T05:19:47.599361Z"
    },
    "papermill": {
     "duration": 0.027456,
     "end_time": "2022-11-20T05:19:47.602253",
     "exception": false,
     "start_time": "2022-11-20T05:19:47.574797",
     "status": "completed"
    },
    "tags": []
   },
   "outputs": [
    {
     "data": {
      "text/plain": [
       "31"
      ]
     },
     "execution_count": 27,
     "metadata": {},
     "output_type": "execute_result"
    }
   ],
   "source": [
    "df3[\"size\"].nunique()"
   ]
  },
  {
   "cell_type": "code",
   "execution_count": 28,
   "id": "e8963928",
   "metadata": {
    "execution": {
     "iopub.execute_input": "2022-11-20T05:19:47.637517Z",
     "iopub.status.busy": "2022-11-20T05:19:47.637178Z",
     "iopub.status.idle": "2022-11-20T05:19:47.641674Z",
     "shell.execute_reply": "2022-11-20T05:19:47.640374Z"
    },
    "papermill": {
     "duration": 0.025121,
     "end_time": "2022-11-20T05:19:47.644193",
     "exception": false,
     "start_time": "2022-11-20T05:19:47.619072",
     "status": "completed"
    },
    "tags": []
   },
   "outputs": [],
   "source": [
    "## For \"size\" we have different types of values like - \"BHK\", \"Bedroom\" which means the same.\n",
    "## So removing all these strings and creating a column with integers only."
   ]
  },
  {
   "cell_type": "code",
   "execution_count": 29,
   "id": "99e5b4e6",
   "metadata": {
    "execution": {
     "iopub.execute_input": "2022-11-20T05:19:47.680924Z",
     "iopub.status.busy": "2022-11-20T05:19:47.680364Z",
     "iopub.status.idle": "2022-11-20T05:19:47.702696Z",
     "shell.execute_reply": "2022-11-20T05:19:47.701019Z"
    },
    "papermill": {
     "duration": 0.042953,
     "end_time": "2022-11-20T05:19:47.705077",
     "exception": false,
     "start_time": "2022-11-20T05:19:47.662124",
     "status": "completed"
    },
    "tags": []
   },
   "outputs": [
    {
     "name": "stderr",
     "output_type": "stream",
     "text": [
      "C:\\Users\\ramya\\AppData\\Local\\Temp\\ipykernel_26396\\1418285638.py:1: SettingWithCopyWarning: \n",
      "A value is trying to be set on a copy of a slice from a DataFrame.\n",
      "Try using .loc[row_indexer,col_indexer] = value instead\n",
      "\n",
      "See the caveats in the documentation: https://pandas.pydata.org/pandas-docs/stable/user_guide/indexing.html#returning-a-view-versus-a-copy\n",
      "  df3[\"bhk\"] = df3[\"size\"].apply(lambda x: int(x.split(\" \")[0]))\n"
     ]
    },
    {
     "data": {
      "text/html": [
       "<div>\n",
       "<style scoped>\n",
       "    .dataframe tbody tr th:only-of-type {\n",
       "        vertical-align: middle;\n",
       "    }\n",
       "\n",
       "    .dataframe tbody tr th {\n",
       "        vertical-align: top;\n",
       "    }\n",
       "\n",
       "    .dataframe thead th {\n",
       "        text-align: right;\n",
       "    }\n",
       "</style>\n",
       "<table border=\"1\" class=\"dataframe\">\n",
       "  <thead>\n",
       "    <tr style=\"text-align: right;\">\n",
       "      <th></th>\n",
       "      <th>location</th>\n",
       "      <th>size</th>\n",
       "      <th>total_sqft</th>\n",
       "      <th>bath</th>\n",
       "      <th>price</th>\n",
       "      <th>bhk</th>\n",
       "    </tr>\n",
       "  </thead>\n",
       "  <tbody>\n",
       "    <tr>\n",
       "      <th>0</th>\n",
       "      <td>Electronic City Phase II</td>\n",
       "      <td>2 BHK</td>\n",
       "      <td>1056</td>\n",
       "      <td>2.0</td>\n",
       "      <td>39.07</td>\n",
       "      <td>2</td>\n",
       "    </tr>\n",
       "    <tr>\n",
       "      <th>1</th>\n",
       "      <td>Chikka Tirupathi</td>\n",
       "      <td>4 Bedroom</td>\n",
       "      <td>2600</td>\n",
       "      <td>5.0</td>\n",
       "      <td>120.00</td>\n",
       "      <td>4</td>\n",
       "    </tr>\n",
       "    <tr>\n",
       "      <th>2</th>\n",
       "      <td>Uttarahalli</td>\n",
       "      <td>3 BHK</td>\n",
       "      <td>1440</td>\n",
       "      <td>2.0</td>\n",
       "      <td>62.00</td>\n",
       "      <td>3</td>\n",
       "    </tr>\n",
       "    <tr>\n",
       "      <th>3</th>\n",
       "      <td>Lingadheeranahalli</td>\n",
       "      <td>3 BHK</td>\n",
       "      <td>1521</td>\n",
       "      <td>3.0</td>\n",
       "      <td>95.00</td>\n",
       "      <td>3</td>\n",
       "    </tr>\n",
       "    <tr>\n",
       "      <th>4</th>\n",
       "      <td>Kothanur</td>\n",
       "      <td>2 BHK</td>\n",
       "      <td>1200</td>\n",
       "      <td>2.0</td>\n",
       "      <td>51.00</td>\n",
       "      <td>2</td>\n",
       "    </tr>\n",
       "  </tbody>\n",
       "</table>\n",
       "</div>"
      ],
      "text/plain": [
       "                   location       size total_sqft  bath   price  bhk\n",
       "0  Electronic City Phase II      2 BHK       1056   2.0   39.07    2\n",
       "1          Chikka Tirupathi  4 Bedroom       2600   5.0  120.00    4\n",
       "2               Uttarahalli      3 BHK       1440   2.0   62.00    3\n",
       "3        Lingadheeranahalli      3 BHK       1521   3.0   95.00    3\n",
       "4                  Kothanur      2 BHK       1200   2.0   51.00    2"
      ]
     },
     "execution_count": 29,
     "metadata": {},
     "output_type": "execute_result"
    }
   ],
   "source": [
    "df3[\"bhk\"] = df3[\"size\"].apply(lambda x: int(x.split(\" \")[0]))\n",
    "df3.head()"
   ]
  },
  {
   "cell_type": "code",
   "execution_count": 30,
   "id": "a8cc062b",
   "metadata": {
    "execution": {
     "iopub.execute_input": "2022-11-20T05:19:47.740749Z",
     "iopub.status.busy": "2022-11-20T05:19:47.740402Z",
     "iopub.status.idle": "2022-11-20T05:19:47.753981Z",
     "shell.execute_reply": "2022-11-20T05:19:47.753124Z"
    },
    "papermill": {
     "duration": 0.034147,
     "end_time": "2022-11-20T05:19:47.755963",
     "exception": false,
     "start_time": "2022-11-20T05:19:47.721816",
     "status": "completed"
    },
    "tags": []
   },
   "outputs": [
    {
     "name": "stderr",
     "output_type": "stream",
     "text": [
      "C:\\Users\\ramya\\AppData\\Local\\Temp\\ipykernel_26396\\352625779.py:1: SettingWithCopyWarning: \n",
      "A value is trying to be set on a copy of a slice from a DataFrame\n",
      "\n",
      "See the caveats in the documentation: https://pandas.pydata.org/pandas-docs/stable/user_guide/indexing.html#returning-a-view-versus-a-copy\n",
      "  df3.drop(\"size\", axis=1, inplace=True)\n"
     ]
    },
    {
     "data": {
      "text/html": [
       "<div>\n",
       "<style scoped>\n",
       "    .dataframe tbody tr th:only-of-type {\n",
       "        vertical-align: middle;\n",
       "    }\n",
       "\n",
       "    .dataframe tbody tr th {\n",
       "        vertical-align: top;\n",
       "    }\n",
       "\n",
       "    .dataframe thead th {\n",
       "        text-align: right;\n",
       "    }\n",
       "</style>\n",
       "<table border=\"1\" class=\"dataframe\">\n",
       "  <thead>\n",
       "    <tr style=\"text-align: right;\">\n",
       "      <th></th>\n",
       "      <th>location</th>\n",
       "      <th>total_sqft</th>\n",
       "      <th>bath</th>\n",
       "      <th>price</th>\n",
       "      <th>bhk</th>\n",
       "    </tr>\n",
       "  </thead>\n",
       "  <tbody>\n",
       "    <tr>\n",
       "      <th>0</th>\n",
       "      <td>Electronic City Phase II</td>\n",
       "      <td>1056</td>\n",
       "      <td>2.0</td>\n",
       "      <td>39.07</td>\n",
       "      <td>2</td>\n",
       "    </tr>\n",
       "    <tr>\n",
       "      <th>1</th>\n",
       "      <td>Chikka Tirupathi</td>\n",
       "      <td>2600</td>\n",
       "      <td>5.0</td>\n",
       "      <td>120.00</td>\n",
       "      <td>4</td>\n",
       "    </tr>\n",
       "    <tr>\n",
       "      <th>2</th>\n",
       "      <td>Uttarahalli</td>\n",
       "      <td>1440</td>\n",
       "      <td>2.0</td>\n",
       "      <td>62.00</td>\n",
       "      <td>3</td>\n",
       "    </tr>\n",
       "    <tr>\n",
       "      <th>3</th>\n",
       "      <td>Lingadheeranahalli</td>\n",
       "      <td>1521</td>\n",
       "      <td>3.0</td>\n",
       "      <td>95.00</td>\n",
       "      <td>3</td>\n",
       "    </tr>\n",
       "    <tr>\n",
       "      <th>4</th>\n",
       "      <td>Kothanur</td>\n",
       "      <td>1200</td>\n",
       "      <td>2.0</td>\n",
       "      <td>51.00</td>\n",
       "      <td>2</td>\n",
       "    </tr>\n",
       "  </tbody>\n",
       "</table>\n",
       "</div>"
      ],
      "text/plain": [
       "                   location total_sqft  bath   price  bhk\n",
       "0  Electronic City Phase II       1056   2.0   39.07    2\n",
       "1          Chikka Tirupathi       2600   5.0  120.00    4\n",
       "2               Uttarahalli       1440   2.0   62.00    3\n",
       "3        Lingadheeranahalli       1521   3.0   95.00    3\n",
       "4                  Kothanur       1200   2.0   51.00    2"
      ]
     },
     "execution_count": 30,
     "metadata": {},
     "output_type": "execute_result"
    }
   ],
   "source": [
    "df3.drop(\"size\", axis=1, inplace=True)\n",
    "df3.head()"
   ]
  },
  {
   "cell_type": "code",
   "execution_count": 31,
   "id": "d7af04bd",
   "metadata": {
    "execution": {
     "iopub.execute_input": "2022-11-20T05:19:47.793190Z",
     "iopub.status.busy": "2022-11-20T05:19:47.792870Z",
     "iopub.status.idle": "2022-11-20T05:19:47.804101Z",
     "shell.execute_reply": "2022-11-20T05:19:47.802914Z"
    },
    "papermill": {
     "duration": 0.032694,
     "end_time": "2022-11-20T05:19:47.806276",
     "exception": false,
     "start_time": "2022-11-20T05:19:47.773582",
     "status": "completed"
    },
    "tags": []
   },
   "outputs": [
    {
     "data": {
      "text/plain": [
       "array([ 2,  4,  3,  6,  1,  8,  7,  5, 11,  9, 27, 10, 19, 16, 43, 14, 12,\n",
       "       13, 18], dtype=int64)"
      ]
     },
     "execution_count": 31,
     "metadata": {},
     "output_type": "execute_result"
    }
   ],
   "source": [
    "df3[\"bhk\"].unique()"
   ]
  },
  {
   "cell_type": "code",
   "execution_count": 32,
   "id": "4ac8661f",
   "metadata": {
    "execution": {
     "iopub.execute_input": "2022-11-20T05:19:47.843663Z",
     "iopub.status.busy": "2022-11-20T05:19:47.843305Z",
     "iopub.status.idle": "2022-11-20T05:19:47.848246Z",
     "shell.execute_reply": "2022-11-20T05:19:47.847186Z"
    },
    "papermill": {
     "duration": 0.026453,
     "end_time": "2022-11-20T05:19:47.850441",
     "exception": false,
     "start_time": "2022-11-20T05:19:47.823988",
     "status": "completed"
    },
    "tags": []
   },
   "outputs": [],
   "source": [
    "## For No of Bedrooms there are some values which are normally not possible like - 43,27."
   ]
  },
  {
   "cell_type": "code",
   "execution_count": 33,
   "id": "5762433e",
   "metadata": {
    "execution": {
     "iopub.execute_input": "2022-11-20T05:19:47.888077Z",
     "iopub.status.busy": "2022-11-20T05:19:47.887724Z",
     "iopub.status.idle": "2022-11-20T05:19:47.901001Z",
     "shell.execute_reply": "2022-11-20T05:19:47.899211Z"
    },
    "papermill": {
     "duration": 0.035825,
     "end_time": "2022-11-20T05:19:47.903339",
     "exception": false,
     "start_time": "2022-11-20T05:19:47.867514",
     "status": "completed"
    },
    "tags": []
   },
   "outputs": [
    {
     "data": {
      "text/html": [
       "<div>\n",
       "<style scoped>\n",
       "    .dataframe tbody tr th:only-of-type {\n",
       "        vertical-align: middle;\n",
       "    }\n",
       "\n",
       "    .dataframe tbody tr th {\n",
       "        vertical-align: top;\n",
       "    }\n",
       "\n",
       "    .dataframe thead th {\n",
       "        text-align: right;\n",
       "    }\n",
       "</style>\n",
       "<table border=\"1\" class=\"dataframe\">\n",
       "  <thead>\n",
       "    <tr style=\"text-align: right;\">\n",
       "      <th></th>\n",
       "      <th>location</th>\n",
       "      <th>total_sqft</th>\n",
       "      <th>bath</th>\n",
       "      <th>price</th>\n",
       "      <th>bhk</th>\n",
       "    </tr>\n",
       "  </thead>\n",
       "  <tbody>\n",
       "    <tr>\n",
       "      <th>1718</th>\n",
       "      <td>2Electronic City Phase II</td>\n",
       "      <td>8000</td>\n",
       "      <td>27.0</td>\n",
       "      <td>230.0</td>\n",
       "      <td>27</td>\n",
       "    </tr>\n",
       "    <tr>\n",
       "      <th>4684</th>\n",
       "      <td>Munnekollal</td>\n",
       "      <td>2400</td>\n",
       "      <td>40.0</td>\n",
       "      <td>660.0</td>\n",
       "      <td>43</td>\n",
       "    </tr>\n",
       "  </tbody>\n",
       "</table>\n",
       "</div>"
      ],
      "text/plain": [
       "                       location total_sqft  bath  price  bhk\n",
       "1718  2Electronic City Phase II       8000  27.0  230.0   27\n",
       "4684                Munnekollal       2400  40.0  660.0   43"
      ]
     },
     "execution_count": 33,
     "metadata": {},
     "output_type": "execute_result"
    }
   ],
   "source": [
    "df3[df3.bhk>20]"
   ]
  },
  {
   "cell_type": "code",
   "execution_count": 34,
   "id": "1f2a6c92",
   "metadata": {
    "execution": {
     "iopub.execute_input": "2022-11-20T05:19:47.941903Z",
     "iopub.status.busy": "2022-11-20T05:19:47.941553Z",
     "iopub.status.idle": "2022-11-20T05:19:47.950826Z",
     "shell.execute_reply": "2022-11-20T05:19:47.949056Z"
    },
    "papermill": {
     "duration": 0.031276,
     "end_time": "2022-11-20T05:19:47.953250",
     "exception": false,
     "start_time": "2022-11-20T05:19:47.921974",
     "status": "completed"
    },
    "tags": []
   },
   "outputs": [
    {
     "data": {
      "text/plain": [
       "array(['1056', '2600', '1440', ..., '1133 - 1384', '774', '4689'],\n",
       "      dtype=object)"
      ]
     },
     "execution_count": 34,
     "metadata": {},
     "output_type": "execute_result"
    }
   ],
   "source": [
    "df3.total_sqft.unique()"
   ]
  },
  {
   "cell_type": "code",
   "execution_count": 35,
   "id": "4ade1c3c",
   "metadata": {
    "execution": {
     "iopub.execute_input": "2022-11-20T05:19:47.992526Z",
     "iopub.status.busy": "2022-11-20T05:19:47.992211Z",
     "iopub.status.idle": "2022-11-20T05:19:47.998404Z",
     "shell.execute_reply": "2022-11-20T05:19:47.996848Z"
    },
    "papermill": {
     "duration": 0.028843,
     "end_time": "2022-11-20T05:19:48.001028",
     "exception": false,
     "start_time": "2022-11-20T05:19:47.972185",
     "status": "completed"
    },
    "tags": []
   },
   "outputs": [],
   "source": [
    "## There are some values in the range. So it is necessary to treat these values."
   ]
  },
  {
   "cell_type": "code",
   "execution_count": 36,
   "id": "b1b6018d",
   "metadata": {
    "execution": {
     "iopub.execute_input": "2022-11-20T05:19:48.040431Z",
     "iopub.status.busy": "2022-11-20T05:19:48.040080Z",
     "iopub.status.idle": "2022-11-20T05:19:48.046061Z",
     "shell.execute_reply": "2022-11-20T05:19:48.044387Z"
    },
    "papermill": {
     "duration": 0.029496,
     "end_time": "2022-11-20T05:19:48.048779",
     "exception": false,
     "start_time": "2022-11-20T05:19:48.019283",
     "status": "completed"
    },
    "tags": []
   },
   "outputs": [],
   "source": [
    "def is_float(x):  # x contains string values only.\n",
    "    try:\n",
    "        float(x)  # Values of x which can be converted into float numbers.\n",
    "    except:\n",
    "        return False\n",
    "    return True\n",
    "\n",
    "# Returns the values which can be converted into float datatype only."
   ]
  },
  {
   "cell_type": "code",
   "execution_count": 37,
   "id": "5ae37fd2",
   "metadata": {
    "execution": {
     "iopub.execute_input": "2022-11-20T05:19:48.087196Z",
     "iopub.status.busy": "2022-11-20T05:19:48.086878Z",
     "iopub.status.idle": "2022-11-20T05:19:48.105181Z",
     "shell.execute_reply": "2022-11-20T05:19:48.104174Z"
    },
    "papermill": {
     "duration": 0.040363,
     "end_time": "2022-11-20T05:19:48.106938",
     "exception": false,
     "start_time": "2022-11-20T05:19:48.066575",
     "status": "completed"
    },
    "tags": []
   },
   "outputs": [
    {
     "data": {
      "text/html": [
       "<div>\n",
       "<style scoped>\n",
       "    .dataframe tbody tr th:only-of-type {\n",
       "        vertical-align: middle;\n",
       "    }\n",
       "\n",
       "    .dataframe tbody tr th {\n",
       "        vertical-align: top;\n",
       "    }\n",
       "\n",
       "    .dataframe thead th {\n",
       "        text-align: right;\n",
       "    }\n",
       "</style>\n",
       "<table border=\"1\" class=\"dataframe\">\n",
       "  <thead>\n",
       "    <tr style=\"text-align: right;\">\n",
       "      <th></th>\n",
       "      <th>location</th>\n",
       "      <th>total_sqft</th>\n",
       "      <th>bath</th>\n",
       "      <th>price</th>\n",
       "      <th>bhk</th>\n",
       "    </tr>\n",
       "  </thead>\n",
       "  <tbody>\n",
       "    <tr>\n",
       "      <th>0</th>\n",
       "      <td>Electronic City Phase II</td>\n",
       "      <td>1056</td>\n",
       "      <td>2.0</td>\n",
       "      <td>39.07</td>\n",
       "      <td>2</td>\n",
       "    </tr>\n",
       "    <tr>\n",
       "      <th>1</th>\n",
       "      <td>Chikka Tirupathi</td>\n",
       "      <td>2600</td>\n",
       "      <td>5.0</td>\n",
       "      <td>120.00</td>\n",
       "      <td>4</td>\n",
       "    </tr>\n",
       "    <tr>\n",
       "      <th>2</th>\n",
       "      <td>Uttarahalli</td>\n",
       "      <td>1440</td>\n",
       "      <td>2.0</td>\n",
       "      <td>62.00</td>\n",
       "      <td>3</td>\n",
       "    </tr>\n",
       "    <tr>\n",
       "      <th>3</th>\n",
       "      <td>Lingadheeranahalli</td>\n",
       "      <td>1521</td>\n",
       "      <td>3.0</td>\n",
       "      <td>95.00</td>\n",
       "      <td>3</td>\n",
       "    </tr>\n",
       "    <tr>\n",
       "      <th>4</th>\n",
       "      <td>Kothanur</td>\n",
       "      <td>1200</td>\n",
       "      <td>2.0</td>\n",
       "      <td>51.00</td>\n",
       "      <td>2</td>\n",
       "    </tr>\n",
       "  </tbody>\n",
       "</table>\n",
       "</div>"
      ],
      "text/plain": [
       "                   location total_sqft  bath   price  bhk\n",
       "0  Electronic City Phase II       1056   2.0   39.07    2\n",
       "1          Chikka Tirupathi       2600   5.0  120.00    4\n",
       "2               Uttarahalli       1440   2.0   62.00    3\n",
       "3        Lingadheeranahalli       1521   3.0   95.00    3\n",
       "4                  Kothanur       1200   2.0   51.00    2"
      ]
     },
     "execution_count": 37,
     "metadata": {},
     "output_type": "execute_result"
    }
   ],
   "source": [
    "df3[df3[\"total_sqft\"].apply(is_float)].head()"
   ]
  },
  {
   "cell_type": "code",
   "execution_count": 38,
   "id": "82a96857",
   "metadata": {
    "execution": {
     "iopub.execute_input": "2022-11-20T05:19:48.145868Z",
     "iopub.status.busy": "2022-11-20T05:19:48.145543Z",
     "iopub.status.idle": "2022-11-20T05:19:48.163443Z",
     "shell.execute_reply": "2022-11-20T05:19:48.162728Z"
    },
    "papermill": {
     "duration": 0.040244,
     "end_time": "2022-11-20T05:19:48.165710",
     "exception": false,
     "start_time": "2022-11-20T05:19:48.125466",
     "status": "completed"
    },
    "tags": []
   },
   "outputs": [
    {
     "data": {
      "text/html": [
       "<div>\n",
       "<style scoped>\n",
       "    .dataframe tbody tr th:only-of-type {\n",
       "        vertical-align: middle;\n",
       "    }\n",
       "\n",
       "    .dataframe tbody tr th {\n",
       "        vertical-align: top;\n",
       "    }\n",
       "\n",
       "    .dataframe thead th {\n",
       "        text-align: right;\n",
       "    }\n",
       "</style>\n",
       "<table border=\"1\" class=\"dataframe\">\n",
       "  <thead>\n",
       "    <tr style=\"text-align: right;\">\n",
       "      <th></th>\n",
       "      <th>location</th>\n",
       "      <th>total_sqft</th>\n",
       "      <th>bath</th>\n",
       "      <th>price</th>\n",
       "      <th>bhk</th>\n",
       "    </tr>\n",
       "  </thead>\n",
       "  <tbody>\n",
       "    <tr>\n",
       "      <th>30</th>\n",
       "      <td>Yelahanka</td>\n",
       "      <td>2100 - 2850</td>\n",
       "      <td>4.0</td>\n",
       "      <td>186.000</td>\n",
       "      <td>4</td>\n",
       "    </tr>\n",
       "    <tr>\n",
       "      <th>122</th>\n",
       "      <td>Hebbal</td>\n",
       "      <td>3067 - 8156</td>\n",
       "      <td>4.0</td>\n",
       "      <td>477.000</td>\n",
       "      <td>4</td>\n",
       "    </tr>\n",
       "    <tr>\n",
       "      <th>137</th>\n",
       "      <td>8th Phase JP Nagar</td>\n",
       "      <td>1042 - 1105</td>\n",
       "      <td>2.0</td>\n",
       "      <td>54.005</td>\n",
       "      <td>2</td>\n",
       "    </tr>\n",
       "    <tr>\n",
       "      <th>165</th>\n",
       "      <td>Sarjapur</td>\n",
       "      <td>1145 - 1340</td>\n",
       "      <td>2.0</td>\n",
       "      <td>43.490</td>\n",
       "      <td>2</td>\n",
       "    </tr>\n",
       "    <tr>\n",
       "      <th>188</th>\n",
       "      <td>KR Puram</td>\n",
       "      <td>1015 - 1540</td>\n",
       "      <td>2.0</td>\n",
       "      <td>56.800</td>\n",
       "      <td>2</td>\n",
       "    </tr>\n",
       "    <tr>\n",
       "      <th>410</th>\n",
       "      <td>Kengeri</td>\n",
       "      <td>34.46Sq. Meter</td>\n",
       "      <td>1.0</td>\n",
       "      <td>18.500</td>\n",
       "      <td>1</td>\n",
       "    </tr>\n",
       "    <tr>\n",
       "      <th>549</th>\n",
       "      <td>Hennur Road</td>\n",
       "      <td>1195 - 1440</td>\n",
       "      <td>2.0</td>\n",
       "      <td>63.770</td>\n",
       "      <td>2</td>\n",
       "    </tr>\n",
       "    <tr>\n",
       "      <th>648</th>\n",
       "      <td>Arekere</td>\n",
       "      <td>4125Perch</td>\n",
       "      <td>9.0</td>\n",
       "      <td>265.000</td>\n",
       "      <td>9</td>\n",
       "    </tr>\n",
       "    <tr>\n",
       "      <th>661</th>\n",
       "      <td>Yelahanka</td>\n",
       "      <td>1120 - 1145</td>\n",
       "      <td>2.0</td>\n",
       "      <td>48.130</td>\n",
       "      <td>2</td>\n",
       "    </tr>\n",
       "    <tr>\n",
       "      <th>672</th>\n",
       "      <td>Bettahalsoor</td>\n",
       "      <td>3090 - 5002</td>\n",
       "      <td>4.0</td>\n",
       "      <td>445.000</td>\n",
       "      <td>4</td>\n",
       "    </tr>\n",
       "  </tbody>\n",
       "</table>\n",
       "</div>"
      ],
      "text/plain": [
       "               location      total_sqft  bath    price  bhk\n",
       "30            Yelahanka     2100 - 2850   4.0  186.000    4\n",
       "122              Hebbal     3067 - 8156   4.0  477.000    4\n",
       "137  8th Phase JP Nagar     1042 - 1105   2.0   54.005    2\n",
       "165            Sarjapur     1145 - 1340   2.0   43.490    2\n",
       "188            KR Puram     1015 - 1540   2.0   56.800    2\n",
       "410             Kengeri  34.46Sq. Meter   1.0   18.500    1\n",
       "549         Hennur Road     1195 - 1440   2.0   63.770    2\n",
       "648             Arekere       4125Perch   9.0  265.000    9\n",
       "661           Yelahanka     1120 - 1145   2.0   48.130    2\n",
       "672        Bettahalsoor     3090 - 5002   4.0  445.000    4"
      ]
     },
     "execution_count": 38,
     "metadata": {},
     "output_type": "execute_result"
    }
   ],
   "source": [
    "df3[~df3[\"total_sqft\"].apply(is_float)].head(10)\n",
    "\n",
    "# Returns the values which are not of float dataype."
   ]
  },
  {
   "cell_type": "code",
   "execution_count": 39,
   "id": "d443423a",
   "metadata": {
    "execution": {
     "iopub.execute_input": "2022-11-20T05:19:48.203033Z",
     "iopub.status.busy": "2022-11-20T05:19:48.202674Z",
     "iopub.status.idle": "2022-11-20T05:19:48.208072Z",
     "shell.execute_reply": "2022-11-20T05:19:48.207175Z"
    },
    "papermill": {
     "duration": 0.025947,
     "end_time": "2022-11-20T05:19:48.209632",
     "exception": false,
     "start_time": "2022-11-20T05:19:48.183685",
     "status": "completed"
    },
    "tags": []
   },
   "outputs": [],
   "source": [
    "# Above shows that total_sqft can be a range (e.g. 2100-2850). \n",
    "# For such case we can just take average of min and max value in the range.\n",
    "\n",
    "def convert_range_to_num(x):\n",
    "    numbers = x.split(\"-\")\n",
    "    if len(numbers)==2:\n",
    "        return (float(numbers[0])+float(numbers[1]))/2\n",
    "    try:\n",
    "        return float(x)\n",
    "    except:\n",
    "        return None"
   ]
  },
  {
   "cell_type": "code",
   "execution_count": 40,
   "id": "b3af8e50",
   "metadata": {
    "execution": {
     "iopub.execute_input": "2022-11-20T05:19:48.247910Z",
     "iopub.status.busy": "2022-11-20T05:19:48.247570Z",
     "iopub.status.idle": "2022-11-20T05:19:48.270959Z",
     "shell.execute_reply": "2022-11-20T05:19:48.268948Z"
    },
    "papermill": {
     "duration": 0.045698,
     "end_time": "2022-11-20T05:19:48.273052",
     "exception": false,
     "start_time": "2022-11-20T05:19:48.227354",
     "status": "completed"
    },
    "tags": []
   },
   "outputs": [
    {
     "data": {
      "text/html": [
       "<div>\n",
       "<style scoped>\n",
       "    .dataframe tbody tr th:only-of-type {\n",
       "        vertical-align: middle;\n",
       "    }\n",
       "\n",
       "    .dataframe tbody tr th {\n",
       "        vertical-align: top;\n",
       "    }\n",
       "\n",
       "    .dataframe thead th {\n",
       "        text-align: right;\n",
       "    }\n",
       "</style>\n",
       "<table border=\"1\" class=\"dataframe\">\n",
       "  <thead>\n",
       "    <tr style=\"text-align: right;\">\n",
       "      <th></th>\n",
       "      <th>location</th>\n",
       "      <th>total_sqft</th>\n",
       "      <th>bath</th>\n",
       "      <th>price</th>\n",
       "      <th>bhk</th>\n",
       "    </tr>\n",
       "  </thead>\n",
       "  <tbody>\n",
       "    <tr>\n",
       "      <th>0</th>\n",
       "      <td>Electronic City Phase II</td>\n",
       "      <td>1056.0</td>\n",
       "      <td>2.0</td>\n",
       "      <td>39.07</td>\n",
       "      <td>2</td>\n",
       "    </tr>\n",
       "    <tr>\n",
       "      <th>1</th>\n",
       "      <td>Chikka Tirupathi</td>\n",
       "      <td>2600.0</td>\n",
       "      <td>5.0</td>\n",
       "      <td>120.00</td>\n",
       "      <td>4</td>\n",
       "    </tr>\n",
       "    <tr>\n",
       "      <th>2</th>\n",
       "      <td>Uttarahalli</td>\n",
       "      <td>1440.0</td>\n",
       "      <td>2.0</td>\n",
       "      <td>62.00</td>\n",
       "      <td>3</td>\n",
       "    </tr>\n",
       "    <tr>\n",
       "      <th>3</th>\n",
       "      <td>Lingadheeranahalli</td>\n",
       "      <td>1521.0</td>\n",
       "      <td>3.0</td>\n",
       "      <td>95.00</td>\n",
       "      <td>3</td>\n",
       "    </tr>\n",
       "    <tr>\n",
       "      <th>4</th>\n",
       "      <td>Kothanur</td>\n",
       "      <td>1200.0</td>\n",
       "      <td>2.0</td>\n",
       "      <td>51.00</td>\n",
       "      <td>2</td>\n",
       "    </tr>\n",
       "  </tbody>\n",
       "</table>\n",
       "</div>"
      ],
      "text/plain": [
       "                   location  total_sqft  bath   price  bhk\n",
       "0  Electronic City Phase II      1056.0   2.0   39.07    2\n",
       "1          Chikka Tirupathi      2600.0   5.0  120.00    4\n",
       "2               Uttarahalli      1440.0   2.0   62.00    3\n",
       "3        Lingadheeranahalli      1521.0   3.0   95.00    3\n",
       "4                  Kothanur      1200.0   2.0   51.00    2"
      ]
     },
     "execution_count": 40,
     "metadata": {},
     "output_type": "execute_result"
    }
   ],
   "source": [
    "df4 = df3.copy()\n",
    "df4[\"total_sqft\"] = df4[\"total_sqft\"].apply(convert_range_to_num)\n",
    "df4.head()"
   ]
  },
  {
   "cell_type": "code",
   "execution_count": 41,
   "id": "efc1dcd2",
   "metadata": {
    "execution": {
     "iopub.execute_input": "2022-11-20T05:19:48.310300Z",
     "iopub.status.busy": "2022-11-20T05:19:48.309955Z",
     "iopub.status.idle": "2022-11-20T05:19:48.316972Z",
     "shell.execute_reply": "2022-11-20T05:19:48.316254Z"
    },
    "papermill": {
     "duration": 0.027492,
     "end_time": "2022-11-20T05:19:48.318510",
     "exception": false,
     "start_time": "2022-11-20T05:19:48.291018",
     "status": "completed"
    },
    "tags": []
   },
   "outputs": [
    {
     "data": {
      "text/plain": [
       "46"
      ]
     },
     "execution_count": 41,
     "metadata": {},
     "output_type": "execute_result"
    }
   ],
   "source": [
    "df4.total_sqft.isnull().sum()"
   ]
  },
  {
   "cell_type": "code",
   "execution_count": 42,
   "id": "0398c38c",
   "metadata": {
    "execution": {
     "iopub.execute_input": "2022-11-20T05:19:48.356210Z",
     "iopub.status.busy": "2022-11-20T05:19:48.355871Z",
     "iopub.status.idle": "2022-11-20T05:19:48.365739Z",
     "shell.execute_reply": "2022-11-20T05:19:48.364886Z"
    },
    "papermill": {
     "duration": 0.031161,
     "end_time": "2022-11-20T05:19:48.367546",
     "exception": false,
     "start_time": "2022-11-20T05:19:48.336385",
     "status": "completed"
    },
    "tags": []
   },
   "outputs": [
    {
     "data": {
      "text/plain": [
       "(13200, 5)"
      ]
     },
     "execution_count": 42,
     "metadata": {},
     "output_type": "execute_result"
    }
   ],
   "source": [
    "df4.dropna(inplace=True)\n",
    "df4.shape"
   ]
  },
  {
   "cell_type": "code",
   "execution_count": 43,
   "id": "a9b1f95d",
   "metadata": {
    "execution": {
     "iopub.execute_input": "2022-11-20T05:19:48.406317Z",
     "iopub.status.busy": "2022-11-20T05:19:48.405997Z",
     "iopub.status.idle": "2022-11-20T05:19:48.409844Z",
     "shell.execute_reply": "2022-11-20T05:19:48.408904Z"
    },
    "papermill": {
     "duration": 0.025197,
     "end_time": "2022-11-20T05:19:48.411462",
     "exception": false,
     "start_time": "2022-11-20T05:19:48.386265",
     "status": "completed"
    },
    "tags": []
   },
   "outputs": [],
   "source": [
    "## Feature Engineering Techniques\n",
    "## Adding a new feature called price per square feet"
   ]
  },
  {
   "cell_type": "code",
   "execution_count": 44,
   "id": "11c219c4",
   "metadata": {
    "execution": {
     "iopub.execute_input": "2022-11-20T05:19:48.450023Z",
     "iopub.status.busy": "2022-11-20T05:19:48.449716Z",
     "iopub.status.idle": "2022-11-20T05:19:48.463134Z",
     "shell.execute_reply": "2022-11-20T05:19:48.462106Z"
    },
    "papermill": {
     "duration": 0.035514,
     "end_time": "2022-11-20T05:19:48.464950",
     "exception": false,
     "start_time": "2022-11-20T05:19:48.429436",
     "status": "completed"
    },
    "tags": []
   },
   "outputs": [
    {
     "data": {
      "text/html": [
       "<div>\n",
       "<style scoped>\n",
       "    .dataframe tbody tr th:only-of-type {\n",
       "        vertical-align: middle;\n",
       "    }\n",
       "\n",
       "    .dataframe tbody tr th {\n",
       "        vertical-align: top;\n",
       "    }\n",
       "\n",
       "    .dataframe thead th {\n",
       "        text-align: right;\n",
       "    }\n",
       "</style>\n",
       "<table border=\"1\" class=\"dataframe\">\n",
       "  <thead>\n",
       "    <tr style=\"text-align: right;\">\n",
       "      <th></th>\n",
       "      <th>location</th>\n",
       "      <th>total_sqft</th>\n",
       "      <th>bath</th>\n",
       "      <th>price</th>\n",
       "      <th>bhk</th>\n",
       "      <th>price_per_sqft</th>\n",
       "    </tr>\n",
       "  </thead>\n",
       "  <tbody>\n",
       "    <tr>\n",
       "      <th>0</th>\n",
       "      <td>Electronic City Phase II</td>\n",
       "      <td>1056.0</td>\n",
       "      <td>2.0</td>\n",
       "      <td>39.07</td>\n",
       "      <td>2</td>\n",
       "      <td>3699.810606</td>\n",
       "    </tr>\n",
       "    <tr>\n",
       "      <th>1</th>\n",
       "      <td>Chikka Tirupathi</td>\n",
       "      <td>2600.0</td>\n",
       "      <td>5.0</td>\n",
       "      <td>120.00</td>\n",
       "      <td>4</td>\n",
       "      <td>4615.384615</td>\n",
       "    </tr>\n",
       "    <tr>\n",
       "      <th>2</th>\n",
       "      <td>Uttarahalli</td>\n",
       "      <td>1440.0</td>\n",
       "      <td>2.0</td>\n",
       "      <td>62.00</td>\n",
       "      <td>3</td>\n",
       "      <td>4305.555556</td>\n",
       "    </tr>\n",
       "    <tr>\n",
       "      <th>3</th>\n",
       "      <td>Lingadheeranahalli</td>\n",
       "      <td>1521.0</td>\n",
       "      <td>3.0</td>\n",
       "      <td>95.00</td>\n",
       "      <td>3</td>\n",
       "      <td>6245.890861</td>\n",
       "    </tr>\n",
       "    <tr>\n",
       "      <th>4</th>\n",
       "      <td>Kothanur</td>\n",
       "      <td>1200.0</td>\n",
       "      <td>2.0</td>\n",
       "      <td>51.00</td>\n",
       "      <td>2</td>\n",
       "      <td>4250.000000</td>\n",
       "    </tr>\n",
       "  </tbody>\n",
       "</table>\n",
       "</div>"
      ],
      "text/plain": [
       "                   location  total_sqft  bath   price  bhk  price_per_sqft\n",
       "0  Electronic City Phase II      1056.0   2.0   39.07    2     3699.810606\n",
       "1          Chikka Tirupathi      2600.0   5.0  120.00    4     4615.384615\n",
       "2               Uttarahalli      1440.0   2.0   62.00    3     4305.555556\n",
       "3        Lingadheeranahalli      1521.0   3.0   95.00    3     6245.890861\n",
       "4                  Kothanur      1200.0   2.0   51.00    2     4250.000000"
      ]
     },
     "execution_count": 44,
     "metadata": {},
     "output_type": "execute_result"
    }
   ],
   "source": [
    "df5 = df4.copy()\n",
    "df5[\"price_per_sqft\"] = df5[\"price\"]*100000/df5[\"total_sqft\"]\n",
    "df5.head()"
   ]
  },
  {
   "cell_type": "code",
   "execution_count": 45,
   "id": "287a13f0",
   "metadata": {
    "execution": {
     "iopub.execute_input": "2022-11-20T05:19:48.503110Z",
     "iopub.status.busy": "2022-11-20T05:19:48.502778Z",
     "iopub.status.idle": "2022-11-20T05:19:48.510576Z",
     "shell.execute_reply": "2022-11-20T05:19:48.509832Z"
    },
    "papermill": {
     "duration": 0.029517,
     "end_time": "2022-11-20T05:19:48.512768",
     "exception": false,
     "start_time": "2022-11-20T05:19:48.483251",
     "status": "completed"
    },
    "tags": []
   },
   "outputs": [
    {
     "data": {
      "text/plain": [
       "1298"
      ]
     },
     "execution_count": 45,
     "metadata": {},
     "output_type": "execute_result"
    }
   ],
   "source": [
    "df5.location.nunique()"
   ]
  },
  {
   "cell_type": "code",
   "execution_count": 46,
   "id": "b430a464",
   "metadata": {
    "execution": {
     "iopub.execute_input": "2022-11-20T05:19:48.560083Z",
     "iopub.status.busy": "2022-11-20T05:19:48.559740Z",
     "iopub.status.idle": "2022-11-20T05:19:48.567722Z",
     "shell.execute_reply": "2022-11-20T05:19:48.566275Z"
    },
    "papermill": {
     "duration": 0.034321,
     "end_time": "2022-11-20T05:19:48.570150",
     "exception": false,
     "start_time": "2022-11-20T05:19:48.535829",
     "status": "completed"
    },
    "tags": []
   },
   "outputs": [
    {
     "data": {
      "text/plain": [
       "array(['Electronic City Phase II', 'Chikka Tirupathi', 'Uttarahalli', ...,\n",
       "       '12th cross srinivas nagar banshankari 3rd stage',\n",
       "       'Havanur extension', 'Abshot Layout'], dtype=object)"
      ]
     },
     "execution_count": 46,
     "metadata": {},
     "output_type": "execute_result"
    }
   ],
   "source": [
    "df5.location.unique()"
   ]
  },
  {
   "cell_type": "code",
   "execution_count": 47,
   "id": "a8047c87",
   "metadata": {
    "execution": {
     "iopub.execute_input": "2022-11-20T05:19:48.612739Z",
     "iopub.status.busy": "2022-11-20T05:19:48.612393Z",
     "iopub.status.idle": "2022-11-20T05:19:48.617814Z",
     "shell.execute_reply": "2022-11-20T05:19:48.616104Z"
    },
    "papermill": {
     "duration": 0.027836,
     "end_time": "2022-11-20T05:19:48.620186",
     "exception": false,
     "start_time": "2022-11-20T05:19:48.592350",
     "status": "completed"
    },
    "tags": []
   },
   "outputs": [],
   "source": [
    "## Examine locations which is a categorical variable. \n",
    "## We need to apply dimensionality reduction technique here to reduce number of locations"
   ]
  },
  {
   "cell_type": "code",
   "execution_count": 48,
   "id": "76f15db1",
   "metadata": {
    "execution": {
     "iopub.execute_input": "2022-11-20T05:19:48.663454Z",
     "iopub.status.busy": "2022-11-20T05:19:48.660173Z",
     "iopub.status.idle": "2022-11-20T05:19:48.683291Z",
     "shell.execute_reply": "2022-11-20T05:19:48.682613Z"
    },
    "papermill": {
     "duration": 0.04652,
     "end_time": "2022-11-20T05:19:48.685830",
     "exception": false,
     "start_time": "2022-11-20T05:19:48.639310",
     "status": "completed"
    },
    "tags": []
   },
   "outputs": [],
   "source": [
    "df5.location = df5.location.apply(lambda x: x.strip())\n",
    "# leading and trailing whitespace removed by using strip()"
   ]
  },
  {
   "cell_type": "code",
   "execution_count": 49,
   "id": "28c43ab3",
   "metadata": {
    "execution": {
     "iopub.execute_input": "2022-11-20T05:19:48.726688Z",
     "iopub.status.busy": "2022-11-20T05:19:48.726063Z",
     "iopub.status.idle": "2022-11-20T05:19:48.735240Z",
     "shell.execute_reply": "2022-11-20T05:19:48.734410Z"
    },
    "papermill": {
     "duration": 0.031543,
     "end_time": "2022-11-20T05:19:48.737047",
     "exception": false,
     "start_time": "2022-11-20T05:19:48.705504",
     "status": "completed"
    },
    "tags": []
   },
   "outputs": [
    {
     "data": {
      "text/plain": [
       "Whitefield                   533\n",
       "Sarjapur  Road               392\n",
       "Electronic City              304\n",
       "Kanakpura Road               264\n",
       "Thanisandra                  235\n",
       "                            ... \n",
       "Rajanna Layout                 1\n",
       "Subramanyanagar                1\n",
       "Lakshmipura Vidyaanyapura      1\n",
       "Malur Hosur Road               1\n",
       "Abshot Layout                  1\n",
       "Name: location, Length: 1287, dtype: int64"
      ]
     },
     "execution_count": 49,
     "metadata": {},
     "output_type": "execute_result"
    }
   ],
   "source": [
    "location_stats = df5[\"location\"].value_counts(ascending = False)\n",
    "location_stats"
   ]
  },
  {
   "cell_type": "code",
   "execution_count": 50,
   "id": "e4fe2f5b",
   "metadata": {
    "execution": {
     "iopub.execute_input": "2022-11-20T05:19:48.778631Z",
     "iopub.status.busy": "2022-11-20T05:19:48.778307Z",
     "iopub.status.idle": "2022-11-20T05:19:48.784050Z",
     "shell.execute_reply": "2022-11-20T05:19:48.783104Z"
    },
    "papermill": {
     "duration": 0.02827,
     "end_time": "2022-11-20T05:19:48.785853",
     "exception": false,
     "start_time": "2022-11-20T05:19:48.757583",
     "status": "completed"
    },
    "tags": []
   },
   "outputs": [
    {
     "data": {
      "text/plain": [
       "1287"
      ]
     },
     "execution_count": 50,
     "metadata": {},
     "output_type": "execute_result"
    }
   ],
   "source": [
    "len(location_stats)"
   ]
  },
  {
   "cell_type": "code",
   "execution_count": 51,
   "id": "c3cc0b01",
   "metadata": {
    "execution": {
     "iopub.execute_input": "2022-11-20T05:19:48.825578Z",
     "iopub.status.busy": "2022-11-20T05:19:48.824931Z",
     "iopub.status.idle": "2022-11-20T05:19:48.835087Z",
     "shell.execute_reply": "2022-11-20T05:19:48.833434Z"
    },
    "papermill": {
     "duration": 0.033548,
     "end_time": "2022-11-20T05:19:48.838179",
     "exception": false,
     "start_time": "2022-11-20T05:19:48.804631",
     "status": "completed"
    },
    "tags": []
   },
   "outputs": [
    {
     "data": {
      "text/plain": [
       "1047"
      ]
     },
     "execution_count": 51,
     "metadata": {},
     "output_type": "execute_result"
    }
   ],
   "source": [
    "len(location_stats[location_stats<=10])"
   ]
  },
  {
   "cell_type": "code",
   "execution_count": 52,
   "id": "d27a9527",
   "metadata": {
    "execution": {
     "iopub.execute_input": "2022-11-20T05:19:48.884935Z",
     "iopub.status.busy": "2022-11-20T05:19:48.884348Z",
     "iopub.status.idle": "2022-11-20T05:19:48.889359Z",
     "shell.execute_reply": "2022-11-20T05:19:48.888393Z"
    },
    "papermill": {
     "duration": 0.031287,
     "end_time": "2022-11-20T05:19:48.892020",
     "exception": false,
     "start_time": "2022-11-20T05:19:48.860733",
     "status": "completed"
    },
    "tags": []
   },
   "outputs": [],
   "source": [
    "## Dimensionality Reduction\n",
    "#### Any location having less than 10 data points should be tagged as \"other\" location."
   ]
  },
  {
   "cell_type": "code",
   "execution_count": 53,
   "id": "f5966910",
   "metadata": {
    "execution": {
     "iopub.execute_input": "2022-11-20T05:19:48.941452Z",
     "iopub.status.busy": "2022-11-20T05:19:48.939834Z",
     "iopub.status.idle": "2022-11-20T05:19:48.951987Z",
     "shell.execute_reply": "2022-11-20T05:19:48.950188Z"
    },
    "papermill": {
     "duration": 0.039952,
     "end_time": "2022-11-20T05:19:48.954909",
     "exception": false,
     "start_time": "2022-11-20T05:19:48.914957",
     "status": "completed"
    },
    "tags": []
   },
   "outputs": [
    {
     "data": {
      "text/plain": [
       "BTM 1st Stage                10\n",
       "Gunjur Palya                 10\n",
       "Nagappa Reddy Layout         10\n",
       "Sector 1 HSR Layout          10\n",
       "Thyagaraja Nagar             10\n",
       "                             ..\n",
       "Rajanna Layout                1\n",
       "Subramanyanagar               1\n",
       "Lakshmipura Vidyaanyapura     1\n",
       "Malur Hosur Road              1\n",
       "Abshot Layout                 1\n",
       "Name: location, Length: 1047, dtype: int64"
      ]
     },
     "execution_count": 53,
     "metadata": {},
     "output_type": "execute_result"
    }
   ],
   "source": [
    "location_stats_less_than_10 = location_stats[location_stats<=10]\n",
    "location_stats_less_than_10"
   ]
  },
  {
   "cell_type": "code",
   "execution_count": 54,
   "id": "b1a3510f",
   "metadata": {
    "execution": {
     "iopub.execute_input": "2022-11-20T05:19:48.996929Z",
     "iopub.status.busy": "2022-11-20T05:19:48.995533Z",
     "iopub.status.idle": "2022-11-20T05:19:49.003686Z",
     "shell.execute_reply": "2022-11-20T05:19:49.002690Z"
    },
    "papermill": {
     "duration": 0.03104,
     "end_time": "2022-11-20T05:19:49.005824",
     "exception": false,
     "start_time": "2022-11-20T05:19:48.974784",
     "status": "completed"
    },
    "tags": []
   },
   "outputs": [
    {
     "data": {
      "text/plain": [
       "1287"
      ]
     },
     "execution_count": 54,
     "metadata": {},
     "output_type": "execute_result"
    }
   ],
   "source": [
    "df5.location.nunique()"
   ]
  },
  {
   "cell_type": "code",
   "execution_count": 55,
   "id": "52c80a6b",
   "metadata": {
    "execution": {
     "iopub.execute_input": "2022-11-20T05:19:49.047485Z",
     "iopub.status.busy": "2022-11-20T05:19:49.046394Z",
     "iopub.status.idle": "2022-11-20T05:19:49.067707Z",
     "shell.execute_reply": "2022-11-20T05:19:49.066875Z"
    },
    "papermill": {
     "duration": 0.043714,
     "end_time": "2022-11-20T05:19:49.069463",
     "exception": false,
     "start_time": "2022-11-20T05:19:49.025749",
     "status": "completed"
    },
    "tags": []
   },
   "outputs": [
    {
     "data": {
      "text/plain": [
       "241"
      ]
     },
     "execution_count": 55,
     "metadata": {},
     "output_type": "execute_result"
    }
   ],
   "source": [
    "df5.location = df5.location.apply(lambda x: \"other\" if x in location_stats_less_than_10 else x)\n",
    "df5.location.nunique()"
   ]
  },
  {
   "cell_type": "code",
   "execution_count": 56,
   "id": "f13876ab",
   "metadata": {
    "execution": {
     "iopub.execute_input": "2022-11-20T05:19:49.110939Z",
     "iopub.status.busy": "2022-11-20T05:19:49.109410Z",
     "iopub.status.idle": "2022-11-20T05:19:49.115205Z",
     "shell.execute_reply": "2022-11-20T05:19:49.113994Z"
    },
    "papermill": {
     "duration": 0.029029,
     "end_time": "2022-11-20T05:19:49.117766",
     "exception": false,
     "start_time": "2022-11-20T05:19:49.088737",
     "status": "completed"
    },
    "tags": []
   },
   "outputs": [],
   "source": [
    "### We have reduced number of data points in location column from 1293 to only 242.\n",
    "### It will help us in OneHotEncoding"
   ]
  },
  {
   "cell_type": "code",
   "execution_count": 57,
   "id": "38bb5586",
   "metadata": {
    "execution": {
     "iopub.execute_input": "2022-11-20T05:19:49.158493Z",
     "iopub.status.busy": "2022-11-20T05:19:49.158165Z",
     "iopub.status.idle": "2022-11-20T05:19:49.162902Z",
     "shell.execute_reply": "2022-11-20T05:19:49.161415Z"
    },
    "papermill": {
     "duration": 0.028499,
     "end_time": "2022-11-20T05:19:49.165545",
     "exception": false,
     "start_time": "2022-11-20T05:19:49.137046",
     "status": "completed"
    },
    "tags": []
   },
   "outputs": [],
   "source": [
    "## Outlier Detection and Outlier Removal"
   ]
  },
  {
   "cell_type": "code",
   "execution_count": 58,
   "id": "e33e0492",
   "metadata": {
    "execution": {
     "iopub.execute_input": "2022-11-20T05:19:49.206557Z",
     "iopub.status.busy": "2022-11-20T05:19:49.206210Z",
     "iopub.status.idle": "2022-11-20T05:19:49.211530Z",
     "shell.execute_reply": "2022-11-20T05:19:49.209866Z"
    },
    "papermill": {
     "duration": 0.028264,
     "end_time": "2022-11-20T05:19:49.213862",
     "exception": false,
     "start_time": "2022-11-20T05:19:49.185598",
     "status": "completed"
    },
    "tags": []
   },
   "outputs": [],
   "source": [
    "## As a data scientist when you have a conversation with your business manager (who has expertise in real estate), he will tell you that normally square ft per bedroom is 300 (i.e. 2 bhk apartment is minimum 600 sqft. If you have for example 400 sqft apartment with 2 bhk than that seems suspicious and can be removed as an outlier. \n",
    "## We will remove such outliers by keeping our minimum thresold per bhk to be 300 sqft"
   ]
  },
  {
   "cell_type": "code",
   "execution_count": 59,
   "id": "399f9d83",
   "metadata": {
    "execution": {
     "iopub.execute_input": "2022-11-20T05:19:49.256801Z",
     "iopub.status.busy": "2022-11-20T05:19:49.256078Z",
     "iopub.status.idle": "2022-11-20T05:19:49.274423Z",
     "shell.execute_reply": "2022-11-20T05:19:49.272196Z"
    },
    "papermill": {
     "duration": 0.04416,
     "end_time": "2022-11-20T05:19:49.277750",
     "exception": false,
     "start_time": "2022-11-20T05:19:49.233590",
     "status": "completed"
    },
    "tags": []
   },
   "outputs": [
    {
     "data": {
      "text/html": [
       "<div>\n",
       "<style scoped>\n",
       "    .dataframe tbody tr th:only-of-type {\n",
       "        vertical-align: middle;\n",
       "    }\n",
       "\n",
       "    .dataframe tbody tr th {\n",
       "        vertical-align: top;\n",
       "    }\n",
       "\n",
       "    .dataframe thead th {\n",
       "        text-align: right;\n",
       "    }\n",
       "</style>\n",
       "<table border=\"1\" class=\"dataframe\">\n",
       "  <thead>\n",
       "    <tr style=\"text-align: right;\">\n",
       "      <th></th>\n",
       "      <th>location</th>\n",
       "      <th>total_sqft</th>\n",
       "      <th>bath</th>\n",
       "      <th>price</th>\n",
       "      <th>bhk</th>\n",
       "      <th>price_per_sqft</th>\n",
       "    </tr>\n",
       "  </thead>\n",
       "  <tbody>\n",
       "    <tr>\n",
       "      <th>9</th>\n",
       "      <td>other</td>\n",
       "      <td>1020.0</td>\n",
       "      <td>6.0</td>\n",
       "      <td>370.0</td>\n",
       "      <td>6</td>\n",
       "      <td>36274.509804</td>\n",
       "    </tr>\n",
       "    <tr>\n",
       "      <th>45</th>\n",
       "      <td>HSR Layout</td>\n",
       "      <td>600.0</td>\n",
       "      <td>9.0</td>\n",
       "      <td>200.0</td>\n",
       "      <td>8</td>\n",
       "      <td>33333.333333</td>\n",
       "    </tr>\n",
       "    <tr>\n",
       "      <th>58</th>\n",
       "      <td>Murugeshpalya</td>\n",
       "      <td>1407.0</td>\n",
       "      <td>4.0</td>\n",
       "      <td>150.0</td>\n",
       "      <td>6</td>\n",
       "      <td>10660.980810</td>\n",
       "    </tr>\n",
       "    <tr>\n",
       "      <th>68</th>\n",
       "      <td>Devarachikkanahalli</td>\n",
       "      <td>1350.0</td>\n",
       "      <td>7.0</td>\n",
       "      <td>85.0</td>\n",
       "      <td>8</td>\n",
       "      <td>6296.296296</td>\n",
       "    </tr>\n",
       "    <tr>\n",
       "      <th>70</th>\n",
       "      <td>other</td>\n",
       "      <td>500.0</td>\n",
       "      <td>3.0</td>\n",
       "      <td>100.0</td>\n",
       "      <td>3</td>\n",
       "      <td>20000.000000</td>\n",
       "    </tr>\n",
       "  </tbody>\n",
       "</table>\n",
       "</div>"
      ],
      "text/plain": [
       "               location  total_sqft  bath  price  bhk  price_per_sqft\n",
       "9                 other      1020.0   6.0  370.0    6    36274.509804\n",
       "45           HSR Layout       600.0   9.0  200.0    8    33333.333333\n",
       "58        Murugeshpalya      1407.0   4.0  150.0    6    10660.980810\n",
       "68  Devarachikkanahalli      1350.0   7.0   85.0    8     6296.296296\n",
       "70                other       500.0   3.0  100.0    3    20000.000000"
      ]
     },
     "execution_count": 59,
     "metadata": {},
     "output_type": "execute_result"
    }
   ],
   "source": [
    "df5[df5.total_sqft/df5.bhk<300].head()"
   ]
  },
  {
   "cell_type": "code",
   "execution_count": 60,
   "id": "d824af39",
   "metadata": {
    "execution": {
     "iopub.execute_input": "2022-11-20T05:19:49.323375Z",
     "iopub.status.busy": "2022-11-20T05:19:49.323000Z",
     "iopub.status.idle": "2022-11-20T05:19:49.330044Z",
     "shell.execute_reply": "2022-11-20T05:19:49.328996Z"
    },
    "papermill": {
     "duration": 0.031805,
     "end_time": "2022-11-20T05:19:49.332391",
     "exception": false,
     "start_time": "2022-11-20T05:19:49.300586",
     "status": "completed"
    },
    "tags": []
   },
   "outputs": [
    {
     "data": {
      "text/plain": [
       "(13200, 6)"
      ]
     },
     "execution_count": 60,
     "metadata": {},
     "output_type": "execute_result"
    }
   ],
   "source": [
    "df5.shape"
   ]
  },
  {
   "cell_type": "code",
   "execution_count": 61,
   "id": "3d03b585",
   "metadata": {
    "execution": {
     "iopub.execute_input": "2022-11-20T05:19:49.375129Z",
     "iopub.status.busy": "2022-11-20T05:19:49.374797Z",
     "iopub.status.idle": "2022-11-20T05:19:49.385059Z",
     "shell.execute_reply": "2022-11-20T05:19:49.383945Z"
    },
    "papermill": {
     "duration": 0.033586,
     "end_time": "2022-11-20T05:19:49.387144",
     "exception": false,
     "start_time": "2022-11-20T05:19:49.353558",
     "status": "completed"
    },
    "tags": []
   },
   "outputs": [
    {
     "data": {
      "text/plain": [
       "(12456, 6)"
      ]
     },
     "execution_count": 61,
     "metadata": {},
     "output_type": "execute_result"
    }
   ],
   "source": [
    "df6 = df5[~(df5.total_sqft/df5.bhk<300)]\n",
    "df6.shape"
   ]
  },
  {
   "cell_type": "code",
   "execution_count": 62,
   "id": "e4e07a62",
   "metadata": {
    "execution": {
     "iopub.execute_input": "2022-11-20T05:19:49.430893Z",
     "iopub.status.busy": "2022-11-20T05:19:49.430566Z",
     "iopub.status.idle": "2022-11-20T05:19:49.434890Z",
     "shell.execute_reply": "2022-11-20T05:19:49.433475Z"
    },
    "papermill": {
     "duration": 0.028176,
     "end_time": "2022-11-20T05:19:49.437030",
     "exception": false,
     "start_time": "2022-11-20T05:19:49.408854",
     "status": "completed"
    },
    "tags": []
   },
   "outputs": [],
   "source": [
    "## Outlier Removal Using Standard Deviation and Mean"
   ]
  },
  {
   "cell_type": "code",
   "execution_count": 63,
   "id": "78d5ce45",
   "metadata": {
    "execution": {
     "iopub.execute_input": "2022-11-20T05:19:49.477524Z",
     "iopub.status.busy": "2022-11-20T05:19:49.477183Z",
     "iopub.status.idle": "2022-11-20T05:19:49.489455Z",
     "shell.execute_reply": "2022-11-20T05:19:49.488332Z"
    },
    "papermill": {
     "duration": 0.034554,
     "end_time": "2022-11-20T05:19:49.491274",
     "exception": false,
     "start_time": "2022-11-20T05:19:49.456720",
     "status": "completed"
    },
    "tags": []
   },
   "outputs": [
    {
     "data": {
      "text/plain": [
       "count     12456.000000\n",
       "mean       6308.502826\n",
       "std        4168.127339\n",
       "min         267.829813\n",
       "25%        4210.526316\n",
       "50%        5294.117647\n",
       "75%        6916.666667\n",
       "max      176470.588235\n",
       "Name: price_per_sqft, dtype: float64"
      ]
     },
     "execution_count": 63,
     "metadata": {},
     "output_type": "execute_result"
    }
   ],
   "source": [
    "df6[\"price_per_sqft\"].describe()"
   ]
  },
  {
   "cell_type": "code",
   "execution_count": 64,
   "id": "33bc3790",
   "metadata": {
    "execution": {
     "iopub.execute_input": "2022-11-20T05:19:49.535799Z",
     "iopub.status.busy": "2022-11-20T05:19:49.535429Z",
     "iopub.status.idle": "2022-11-20T05:19:49.541023Z",
     "shell.execute_reply": "2022-11-20T05:19:49.539385Z"
    },
    "papermill": {
     "duration": 0.030045,
     "end_time": "2022-11-20T05:19:49.543738",
     "exception": false,
     "start_time": "2022-11-20T05:19:49.513693",
     "status": "completed"
    },
    "tags": []
   },
   "outputs": [],
   "source": [
    "## Here we see that there is wide variation in min and max price per sqft."
   ]
  },
  {
   "cell_type": "code",
   "execution_count": 65,
   "id": "89874c9e",
   "metadata": {
    "execution": {
     "iopub.execute_input": "2022-11-20T05:19:49.586347Z",
     "iopub.status.busy": "2022-11-20T05:19:49.586043Z",
     "iopub.status.idle": "2022-11-20T05:19:50.000996Z",
     "shell.execute_reply": "2022-11-20T05:19:50.000052Z"
    },
    "papermill": {
     "duration": 0.438571,
     "end_time": "2022-11-20T05:19:50.002870",
     "exception": false,
     "start_time": "2022-11-20T05:19:49.564299",
     "status": "completed"
    },
    "tags": []
   },
   "outputs": [
    {
     "data": {
      "text/plain": [
       "(10242, 6)"
      ]
     },
     "execution_count": 65,
     "metadata": {},
     "output_type": "execute_result"
    }
   ],
   "source": [
    "def remove_outliers(df):\n",
    "    df_out = pd.DataFrame() # Blank dataframe\n",
    "    for key, subdf in df.groupby(\"location\"):\n",
    "        m = np.mean(subdf.price_per_sqft)\n",
    "        std = np.std(subdf.price_per_sqft)\n",
    "        reduced_df = subdf[((subdf.price_per_sqft)>(m-std)) & ((subdf.price_per_sqft)<(m+std))]\n",
    "        # Outlier detection and removal using mean and one standard deviation\n",
    "        df_out = pd.concat([df_out, reduced_df], ignore_index=True)\n",
    "    return df_out\n",
    "\n",
    "df7 = remove_outliers(df6)\n",
    "df7.shape"
   ]
  },
  {
   "cell_type": "code",
   "execution_count": 66,
   "id": "23fad2bf",
   "metadata": {
    "execution": {
     "iopub.execute_input": "2022-11-20T05:19:50.044751Z",
     "iopub.status.busy": "2022-11-20T05:19:50.044404Z",
     "iopub.status.idle": "2022-11-20T05:19:50.049690Z",
     "shell.execute_reply": "2022-11-20T05:19:50.048180Z"
    },
    "papermill": {
     "duration": 0.029651,
     "end_time": "2022-11-20T05:19:50.052415",
     "exception": false,
     "start_time": "2022-11-20T05:19:50.022764",
     "status": "completed"
    },
    "tags": []
   },
   "outputs": [],
   "source": [
    "## Checking for a given location how does 2 BHK and 3 BHK property prices look like"
   ]
  },
  {
   "cell_type": "code",
   "execution_count": 67,
   "id": "72f60854",
   "metadata": {
    "execution": {
     "iopub.execute_input": "2022-11-20T05:19:50.094750Z",
     "iopub.status.busy": "2022-11-20T05:19:50.094299Z",
     "iopub.status.idle": "2022-11-20T05:19:50.354223Z",
     "shell.execute_reply": "2022-11-20T05:19:50.353323Z"
    },
    "papermill": {
     "duration": 0.283302,
     "end_time": "2022-11-20T05:19:50.356106",
     "exception": false,
     "start_time": "2022-11-20T05:19:50.072804",
     "status": "completed"
    },
    "tags": []
   },
   "outputs": [
    {
     "data": {
      "image/png": "[encoded data removed]",
      "text/plain": [
       "<Figure size 1080x720 with 1 Axes>"
      ]
     },
     "metadata": {
      "needs_background": "light"
     },
     "output_type": "display_data"
    }
   ],
   "source": [
    "def scatter_plot(df, location):\n",
    "    bhk2 = df[(df[\"location\"] == location) & (df.bhk==2)]\n",
    "    bhk3 = df[(df[\"location\"] == location) & (df.bhk==3)]\n",
    "    matplotlib.rcParams[\"figure.figsize\"] = (15,10)\n",
    "    plt.scatter(bhk2.total_sqft, bhk2.price, color = \"blue\", label = \"2 BHK\", s=50)\n",
    "    plt.scatter(bhk3.total_sqft, bhk3.price, marker = \"+\", color = \"green\", label = \"3 BHK\", s=50)\n",
    "    plt.xlabel(\"Total Square Feet Area\")\n",
    "    plt.ylabel(\"Price\")\n",
    "    plt.title(location)\n",
    "    plt.legend()\n",
    "    plt.show()\n",
    "    \n",
    "scatter_plot(df7,\"Rajaji Nagar\")"
   ]
  },
  {
   "cell_type": "code",
   "execution_count": 68,
   "id": "8c092d24",
   "metadata": {
    "execution": {
     "iopub.execute_input": "2022-11-20T05:19:50.402028Z",
     "iopub.status.busy": "2022-11-20T05:19:50.401276Z",
     "iopub.status.idle": "2022-11-20T05:19:50.611725Z",
     "shell.execute_reply": "2022-11-20T05:19:50.610438Z"
    },
    "papermill": {
     "duration": 0.235115,
     "end_time": "2022-11-20T05:19:50.613913",
     "exception": false,
     "start_time": "2022-11-20T05:19:50.378798",
     "status": "completed"
    },
    "tags": []
   },
   "outputs": [
    {
     "data": {
      "image/png": "[encoded data removed]",
      "text/plain": [
       "<Figure size 1080x720 with 1 Axes>"
      ]
     },
     "metadata": {
      "needs_background": "light"
     },
     "output_type": "display_data"
    }
   ],
   "source": [
    "scatter_plot(df7,\"Indira Nagar\")"
   ]
  },
  {
   "cell_type": "code",
   "execution_count": 69,
   "id": "c2eaf40a",
   "metadata": {
    "execution": {
     "iopub.execute_input": "2022-11-20T05:19:50.660113Z",
     "iopub.status.busy": "2022-11-20T05:19:50.659747Z",
     "iopub.status.idle": "2022-11-20T05:19:50.663667Z",
     "shell.execute_reply": "2022-11-20T05:19:50.662860Z"
    },
    "papermill": {
     "duration": 0.029511,
     "end_time": "2022-11-20T05:19:50.665933",
     "exception": false,
     "start_time": "2022-11-20T05:19:50.636422",
     "status": "completed"
    },
    "tags": []
   },
   "outputs": [],
   "source": [
    "#### There are some properties where for the same location price of 2 BHK are higher than 3 BHK with same square feet area. \n",
    "#### for a given location, we will build a dictionary of stats per bhk, i.e. - \n",
    "#      {\n",
    "#          \"1\":{\n",
    "#              \"mean\" : 4000,\n",
    "#              \"std\" :2000,\n",
    "#              \"count\" :34\n",
    "#          },\n",
    "#          \"2\" : {\n",
    "#              \"mean\" : 4300,\n",
    "#              \"std\" :2300,\n",
    "#              \"count\" :22\n",
    "#          },\n",
    "#      }\n",
    "    \n",
    "#### Now we can remove those 2 BHK apartments whose price_per_sqft is less than mean price_per_sqft of 1 BHK apartment"
   ]
  },
  {
   "cell_type": "code",
   "execution_count": 70,
   "id": "427c13c4",
   "metadata": {
    "execution": {
     "iopub.execute_input": "2022-11-20T05:19:50.712205Z",
     "iopub.status.busy": "2022-11-20T05:19:50.711045Z",
     "iopub.status.idle": "2022-11-20T05:19:51.344941Z",
     "shell.execute_reply": "2022-11-20T05:19:51.344224Z"
    },
    "papermill": {
     "duration": 0.658459,
     "end_time": "2022-11-20T05:19:51.347229",
     "exception": false,
     "start_time": "2022-11-20T05:19:50.688770",
     "status": "completed"
    },
    "tags": []
   },
   "outputs": [
    {
     "data": {
      "text/plain": [
       "(7317, 6)"
      ]
     },
     "execution_count": 70,
     "metadata": {},
     "output_type": "execute_result"
    }
   ],
   "source": [
    "def remove_bhk_outliers(df):\n",
    "    exclude_indices = np.array([])\n",
    "    for location, location_df in df7.groupby('location'):\n",
    "        bhk_stats = {}\n",
    "        for bhk, bhk_df in location_df.groupby('bhk'):\n",
    "            bhk_stats[bhk] = {\n",
    "                'mean': np.mean(bhk_df.price_per_sqft),\n",
    "                'std': np.std(bhk_df.price_per_sqft),\n",
    "                'count': bhk_df.shape[0]\n",
    "            }\n",
    "        for bhk, bhk_df in location_df.groupby('bhk'):\n",
    "            stats = bhk_stats.get(bhk-1)\n",
    "            if stats and stats['count']>5:\n",
    "                exclude_indices = np.append(exclude_indices, bhk_df[bhk_df.price_per_sqft<(stats['mean'])].index.values)\n",
    "    return df.drop(exclude_indices,axis='index')\n",
    "\n",
    "df8 = remove_bhk_outliers(df7)\n",
    "\n",
    "df8.shape"
   ]
  },
  {
   "cell_type": "code",
   "execution_count": 71,
   "id": "e053ce12",
   "metadata": {
    "execution": {
     "iopub.execute_input": "2022-11-20T05:19:51.395351Z",
     "iopub.status.busy": "2022-11-20T05:19:51.394523Z",
     "iopub.status.idle": "2022-11-20T05:19:51.600284Z",
     "shell.execute_reply": "2022-11-20T05:19:51.598620Z"
    },
    "papermill": {
     "duration": 0.233338,
     "end_time": "2022-11-20T05:19:51.602716",
     "exception": false,
     "start_time": "2022-11-20T05:19:51.369378",
     "status": "completed"
    },
    "tags": []
   },
   "outputs": [
    {
     "data": {
      "image/png": "[encoded data removed]",
      "text/plain": [
       "<Figure size 1080x720 with 1 Axes>"
      ]
     },
     "metadata": {
      "needs_background": "light"
     },
     "output_type": "display_data"
    }
   ],
   "source": [
    "scatter_plot(df8,\"Indira Nagar\")"
   ]
  },
  {
   "cell_type": "code",
   "execution_count": 72,
   "id": "9bd5143c",
   "metadata": {
    "execution": {
     "iopub.execute_input": "2022-11-20T05:19:51.647009Z",
     "iopub.status.busy": "2022-11-20T05:19:51.646606Z",
     "iopub.status.idle": "2022-11-20T05:19:51.828359Z",
     "shell.execute_reply": "2022-11-20T05:19:51.826851Z"
    },
    "papermill": {
     "duration": 0.208397,
     "end_time": "2022-11-20T05:19:51.832095",
     "exception": false,
     "start_time": "2022-11-20T05:19:51.623698",
     "status": "completed"
    },
    "tags": []
   },
   "outputs": [
    {
     "data": {
      "image/png": "[encoded data removed]",
      "text/plain": [
       "<Figure size 1080x720 with 1 Axes>"
      ]
     },
     "metadata": {
      "needs_background": "light"
     },
     "output_type": "display_data"
    }
   ],
   "source": [
    "plt.hist(df8.price_per_sqft, rwidth=0.9)\n",
    "plt.xlabel(\"Price Per Sqft\")\n",
    "plt.ylabel(\"Count\")\n",
    "plt.show()"
   ]
  },
  {
   "cell_type": "code",
   "execution_count": 73,
   "id": "b6a0189f",
   "metadata": {
    "execution": {
     "iopub.execute_input": "2022-11-20T05:19:51.878381Z",
     "iopub.status.busy": "2022-11-20T05:19:51.877942Z",
     "iopub.status.idle": "2022-11-20T05:19:51.884433Z",
     "shell.execute_reply": "2022-11-20T05:19:51.882837Z"
    },
    "papermill": {
     "duration": 0.032156,
     "end_time": "2022-11-20T05:19:51.886910",
     "exception": false,
     "start_time": "2022-11-20T05:19:51.854754",
     "status": "completed"
    },
    "tags": []
   },
   "outputs": [],
   "source": [
    "## Outlier Removal Using Bathrooms Feature"
   ]
  },
  {
   "cell_type": "code",
   "execution_count": 74,
   "id": "76603166",
   "metadata": {
    "execution": {
     "iopub.execute_input": "2022-11-20T05:19:51.932399Z",
     "iopub.status.busy": "2022-11-20T05:19:51.930728Z",
     "iopub.status.idle": "2022-11-20T05:19:51.940893Z",
     "shell.execute_reply": "2022-11-20T05:19:51.938764Z"
    },
    "papermill": {
     "duration": 0.035076,
     "end_time": "2022-11-20T05:19:51.943410",
     "exception": false,
     "start_time": "2022-11-20T05:19:51.908334",
     "status": "completed"
    },
    "tags": []
   },
   "outputs": [
    {
     "data": {
      "text/plain": [
       "array([ 4.,  3.,  2.,  5.,  8.,  1.,  6.,  7.,  9., 12., 16., 13.])"
      ]
     },
     "execution_count": 74,
     "metadata": {},
     "output_type": "execute_result"
    }
   ],
   "source": [
    "df8.bath.unique()"
   ]
  },
  {
   "cell_type": "code",
   "execution_count": 75,
   "id": "ea07f367",
   "metadata": {
    "execution": {
     "iopub.execute_input": "2022-11-20T05:19:51.991948Z",
     "iopub.status.busy": "2022-11-20T05:19:51.990922Z",
     "iopub.status.idle": "2022-11-20T05:19:52.162436Z",
     "shell.execute_reply": "2022-11-20T05:19:52.161528Z"
    },
    "papermill": {
     "duration": 0.198225,
     "end_time": "2022-11-20T05:19:52.164762",
     "exception": false,
     "start_time": "2022-11-20T05:19:51.966537",
     "status": "completed"
    },
    "tags": []
   },
   "outputs": [
    {
     "data": {
      "image/png": "[encoded data removed]",
      "text/plain": [
       "<Figure size 1080x720 with 1 Axes>"
      ]
     },
     "metadata": {
      "needs_background": "light"
     },
     "output_type": "display_data"
    }
   ],
   "source": [
    "plt.hist(df8.bath, rwidth = 0.90)\n",
    "plt.xlabel(\"No. of Bathrooms\")\n",
    "plt.ylabel(\"Count\")\n",
    "plt.show()"
   ]
  },
  {
   "cell_type": "code",
   "execution_count": 76,
   "id": "aa3b7c8c",
   "metadata": {
    "execution": {
     "iopub.execute_input": "2022-11-20T05:19:52.210906Z",
     "iopub.status.busy": "2022-11-20T05:19:52.210538Z",
     "iopub.status.idle": "2022-11-20T05:19:52.224814Z",
     "shell.execute_reply": "2022-11-20T05:19:52.223494Z"
    },
    "papermill": {
     "duration": 0.039252,
     "end_time": "2022-11-20T05:19:52.227080",
     "exception": false,
     "start_time": "2022-11-20T05:19:52.187828",
     "status": "completed"
    },
    "tags": []
   },
   "outputs": [
    {
     "data": {
      "text/html": [
       "<div>\n",
       "<style scoped>\n",
       "    .dataframe tbody tr th:only-of-type {\n",
       "        vertical-align: middle;\n",
       "    }\n",
       "\n",
       "    .dataframe tbody tr th {\n",
       "        vertical-align: top;\n",
       "    }\n",
       "\n",
       "    .dataframe thead th {\n",
       "        text-align: right;\n",
       "    }\n",
       "</style>\n",
       "<table border=\"1\" class=\"dataframe\">\n",
       "  <thead>\n",
       "    <tr style=\"text-align: right;\">\n",
       "      <th></th>\n",
       "      <th>location</th>\n",
       "      <th>total_sqft</th>\n",
       "      <th>bath</th>\n",
       "      <th>price</th>\n",
       "      <th>bhk</th>\n",
       "      <th>price_per_sqft</th>\n",
       "    </tr>\n",
       "  </thead>\n",
       "  <tbody>\n",
       "    <tr>\n",
       "      <th>5277</th>\n",
       "      <td>Neeladri Nagar</td>\n",
       "      <td>4000.0</td>\n",
       "      <td>12.0</td>\n",
       "      <td>160.0</td>\n",
       "      <td>10</td>\n",
       "      <td>4000.000000</td>\n",
       "    </tr>\n",
       "    <tr>\n",
       "      <th>8483</th>\n",
       "      <td>other</td>\n",
       "      <td>12000.0</td>\n",
       "      <td>12.0</td>\n",
       "      <td>525.0</td>\n",
       "      <td>10</td>\n",
       "      <td>4375.000000</td>\n",
       "    </tr>\n",
       "    <tr>\n",
       "      <th>8572</th>\n",
       "      <td>other</td>\n",
       "      <td>10000.0</td>\n",
       "      <td>16.0</td>\n",
       "      <td>550.0</td>\n",
       "      <td>16</td>\n",
       "      <td>5500.000000</td>\n",
       "    </tr>\n",
       "    <tr>\n",
       "      <th>9306</th>\n",
       "      <td>other</td>\n",
       "      <td>6000.0</td>\n",
       "      <td>12.0</td>\n",
       "      <td>150.0</td>\n",
       "      <td>11</td>\n",
       "      <td>2500.000000</td>\n",
       "    </tr>\n",
       "    <tr>\n",
       "      <th>9637</th>\n",
       "      <td>other</td>\n",
       "      <td>5425.0</td>\n",
       "      <td>13.0</td>\n",
       "      <td>275.0</td>\n",
       "      <td>13</td>\n",
       "      <td>5069.124424</td>\n",
       "    </tr>\n",
       "  </tbody>\n",
       "</table>\n",
       "</div>"
      ],
      "text/plain": [
       "            location  total_sqft  bath  price  bhk  price_per_sqft\n",
       "5277  Neeladri Nagar      4000.0  12.0  160.0   10     4000.000000\n",
       "8483           other     12000.0  12.0  525.0   10     4375.000000\n",
       "8572           other     10000.0  16.0  550.0   16     5500.000000\n",
       "9306           other      6000.0  12.0  150.0   11     2500.000000\n",
       "9637           other      5425.0  13.0  275.0   13     5069.124424"
      ]
     },
     "execution_count": 76,
     "metadata": {},
     "output_type": "execute_result"
    }
   ],
   "source": [
    "df8[df8.bath>10]"
   ]
  },
  {
   "cell_type": "code",
   "execution_count": 77,
   "id": "fa39a249",
   "metadata": {
    "execution": {
     "iopub.execute_input": "2022-11-20T05:19:52.272537Z",
     "iopub.status.busy": "2022-11-20T05:19:52.271508Z",
     "iopub.status.idle": "2022-11-20T05:19:52.275669Z",
     "shell.execute_reply": "2022-11-20T05:19:52.274716Z"
    },
    "papermill": {
     "duration": 0.029053,
     "end_time": "2022-11-20T05:19:52.277816",
     "exception": false,
     "start_time": "2022-11-20T05:19:52.248763",
     "status": "completed"
    },
    "tags": []
   },
   "outputs": [],
   "source": [
    "## It is unusual to have 2 more bathrooms than number of bedrooms in a home. \n",
    "## It can be consulted with the business manager that it is unusual to have the above parameter."
   ]
  },
  {
   "cell_type": "code",
   "execution_count": 78,
   "id": "71617b5a",
   "metadata": {
    "execution": {
     "iopub.execute_input": "2022-11-20T05:19:52.322798Z",
     "iopub.status.busy": "2022-11-20T05:19:52.322217Z",
     "iopub.status.idle": "2022-11-20T05:19:52.333984Z",
     "shell.execute_reply": "2022-11-20T05:19:52.332951Z"
    },
    "papermill": {
     "duration": 0.036128,
     "end_time": "2022-11-20T05:19:52.336188",
     "exception": false,
     "start_time": "2022-11-20T05:19:52.300060",
     "status": "completed"
    },
    "tags": []
   },
   "outputs": [
    {
     "data": {
      "text/html": [
       "<div>\n",
       "<style scoped>\n",
       "    .dataframe tbody tr th:only-of-type {\n",
       "        vertical-align: middle;\n",
       "    }\n",
       "\n",
       "    .dataframe tbody tr th {\n",
       "        vertical-align: top;\n",
       "    }\n",
       "\n",
       "    .dataframe thead th {\n",
       "        text-align: right;\n",
       "    }\n",
       "</style>\n",
       "<table border=\"1\" class=\"dataframe\">\n",
       "  <thead>\n",
       "    <tr style=\"text-align: right;\">\n",
       "      <th></th>\n",
       "      <th>location</th>\n",
       "      <th>total_sqft</th>\n",
       "      <th>bath</th>\n",
       "      <th>price</th>\n",
       "      <th>bhk</th>\n",
       "      <th>price_per_sqft</th>\n",
       "    </tr>\n",
       "  </thead>\n",
       "  <tbody>\n",
       "    <tr>\n",
       "      <th>1626</th>\n",
       "      <td>Chikkabanavar</td>\n",
       "      <td>2460.0</td>\n",
       "      <td>7.0</td>\n",
       "      <td>80.0</td>\n",
       "      <td>4</td>\n",
       "      <td>3252.032520</td>\n",
       "    </tr>\n",
       "    <tr>\n",
       "      <th>5238</th>\n",
       "      <td>Nagasandra</td>\n",
       "      <td>7000.0</td>\n",
       "      <td>8.0</td>\n",
       "      <td>450.0</td>\n",
       "      <td>4</td>\n",
       "      <td>6428.571429</td>\n",
       "    </tr>\n",
       "    <tr>\n",
       "      <th>6711</th>\n",
       "      <td>Thanisandra</td>\n",
       "      <td>1806.0</td>\n",
       "      <td>6.0</td>\n",
       "      <td>116.0</td>\n",
       "      <td>3</td>\n",
       "      <td>6423.034330</td>\n",
       "    </tr>\n",
       "    <tr>\n",
       "      <th>8408</th>\n",
       "      <td>other</td>\n",
       "      <td>11338.0</td>\n",
       "      <td>9.0</td>\n",
       "      <td>1000.0</td>\n",
       "      <td>6</td>\n",
       "      <td>8819.897689</td>\n",
       "    </tr>\n",
       "  </tbody>\n",
       "</table>\n",
       "</div>"
      ],
      "text/plain": [
       "           location  total_sqft  bath   price  bhk  price_per_sqft\n",
       "1626  Chikkabanavar      2460.0   7.0    80.0    4     3252.032520\n",
       "5238     Nagasandra      7000.0   8.0   450.0    4     6428.571429\n",
       "6711    Thanisandra      1806.0   6.0   116.0    3     6423.034330\n",
       "8408          other     11338.0   9.0  1000.0    6     8819.897689"
      ]
     },
     "execution_count": 78,
     "metadata": {},
     "output_type": "execute_result"
    }
   ],
   "source": [
    "df8[df8.bath>df8.bhk+2]"
   ]
  },
  {
   "cell_type": "code",
   "execution_count": 79,
   "id": "cb2abc1a",
   "metadata": {
    "execution": {
     "iopub.execute_input": "2022-11-20T05:19:52.384697Z",
     "iopub.status.busy": "2022-11-20T05:19:52.384323Z",
     "iopub.status.idle": "2022-11-20T05:19:52.393155Z",
     "shell.execute_reply": "2022-11-20T05:19:52.391948Z"
    },
    "papermill": {
     "duration": 0.036897,
     "end_time": "2022-11-20T05:19:52.395441",
     "exception": false,
     "start_time": "2022-11-20T05:19:52.358544",
     "status": "completed"
    },
    "tags": []
   },
   "outputs": [
    {
     "data": {
      "text/plain": [
       "(7239, 6)"
      ]
     },
     "execution_count": 79,
     "metadata": {},
     "output_type": "execute_result"
    }
   ],
   "source": [
    "df9 = df8[df8.bath<df8.bhk+2]\n",
    "df9.shape"
   ]
  },
  {
   "cell_type": "code",
   "execution_count": 80,
   "id": "5b186d20",
   "metadata": {
    "execution": {
     "iopub.execute_input": "2022-11-20T05:19:52.445755Z",
     "iopub.status.busy": "2022-11-20T05:19:52.445087Z",
     "iopub.status.idle": "2022-11-20T05:19:52.459421Z",
     "shell.execute_reply": "2022-11-20T05:19:52.458243Z"
    },
    "papermill": {
     "duration": 0.043278,
     "end_time": "2022-11-20T05:19:52.461606",
     "exception": false,
     "start_time": "2022-11-20T05:19:52.418328",
     "status": "completed"
    },
    "tags": []
   },
   "outputs": [
    {
     "data": {
      "text/html": [
       "<div>\n",
       "<style scoped>\n",
       "    .dataframe tbody tr th:only-of-type {\n",
       "        vertical-align: middle;\n",
       "    }\n",
       "\n",
       "    .dataframe tbody tr th {\n",
       "        vertical-align: top;\n",
       "    }\n",
       "\n",
       "    .dataframe thead th {\n",
       "        text-align: right;\n",
       "    }\n",
       "</style>\n",
       "<table border=\"1\" class=\"dataframe\">\n",
       "  <thead>\n",
       "    <tr style=\"text-align: right;\">\n",
       "      <th></th>\n",
       "      <th>location</th>\n",
       "      <th>total_sqft</th>\n",
       "      <th>bath</th>\n",
       "      <th>price</th>\n",
       "      <th>bhk</th>\n",
       "    </tr>\n",
       "  </thead>\n",
       "  <tbody>\n",
       "    <tr>\n",
       "      <th>0</th>\n",
       "      <td>1st Block Jayanagar</td>\n",
       "      <td>2850.0</td>\n",
       "      <td>4.0</td>\n",
       "      <td>428.0</td>\n",
       "      <td>4</td>\n",
       "    </tr>\n",
       "    <tr>\n",
       "      <th>1</th>\n",
       "      <td>1st Block Jayanagar</td>\n",
       "      <td>1630.0</td>\n",
       "      <td>3.0</td>\n",
       "      <td>194.0</td>\n",
       "      <td>3</td>\n",
       "    </tr>\n",
       "    <tr>\n",
       "      <th>2</th>\n",
       "      <td>1st Block Jayanagar</td>\n",
       "      <td>1875.0</td>\n",
       "      <td>2.0</td>\n",
       "      <td>235.0</td>\n",
       "      <td>3</td>\n",
       "    </tr>\n",
       "    <tr>\n",
       "      <th>3</th>\n",
       "      <td>1st Block Jayanagar</td>\n",
       "      <td>1200.0</td>\n",
       "      <td>2.0</td>\n",
       "      <td>130.0</td>\n",
       "      <td>3</td>\n",
       "    </tr>\n",
       "    <tr>\n",
       "      <th>4</th>\n",
       "      <td>1st Block Jayanagar</td>\n",
       "      <td>1235.0</td>\n",
       "      <td>2.0</td>\n",
       "      <td>148.0</td>\n",
       "      <td>2</td>\n",
       "    </tr>\n",
       "  </tbody>\n",
       "</table>\n",
       "</div>"
      ],
      "text/plain": [
       "              location  total_sqft  bath  price  bhk\n",
       "0  1st Block Jayanagar      2850.0   4.0  428.0    4\n",
       "1  1st Block Jayanagar      1630.0   3.0  194.0    3\n",
       "2  1st Block Jayanagar      1875.0   2.0  235.0    3\n",
       "3  1st Block Jayanagar      1200.0   2.0  130.0    3\n",
       "4  1st Block Jayanagar      1235.0   2.0  148.0    2"
      ]
     },
     "execution_count": 80,
     "metadata": {},
     "output_type": "execute_result"
    }
   ],
   "source": [
    "df10 = df9.drop(\"price_per_sqft\", axis= 1)\n",
    "df10.head()"
   ]
  },
  {
   "cell_type": "code",
   "execution_count": 81,
   "id": "f764908f",
   "metadata": {
    "execution": {
     "iopub.execute_input": "2022-11-20T05:19:52.508681Z",
     "iopub.status.busy": "2022-11-20T05:19:52.508090Z",
     "iopub.status.idle": "2022-11-20T05:19:52.511726Z",
     "shell.execute_reply": "2022-11-20T05:19:52.510821Z"
    },
    "papermill": {
     "duration": 0.028853,
     "end_time": "2022-11-20T05:19:52.513330",
     "exception": false,
     "start_time": "2022-11-20T05:19:52.484477",
     "status": "completed"
    },
    "tags": []
   },
   "outputs": [],
   "source": [
    "### Using OneHoteEncoding for Location"
   ]
  },
  {
   "cell_type": "code",
   "execution_count": 82,
   "id": "216c0f38",
   "metadata": {
    "execution": {
     "iopub.execute_input": "2022-11-20T05:19:52.560134Z",
     "iopub.status.busy": "2022-11-20T05:19:52.559782Z",
     "iopub.status.idle": "2022-11-20T05:19:52.595166Z",
     "shell.execute_reply": "2022-11-20T05:19:52.593626Z"
    },
    "papermill": {
     "duration": 0.06154,
     "end_time": "2022-11-20T05:19:52.597859",
     "exception": false,
     "start_time": "2022-11-20T05:19:52.536319",
     "status": "completed"
    },
    "tags": []
   },
   "outputs": [
    {
     "data": {
      "text/html": [
       "<div>\n",
       "<style scoped>\n",
       "    .dataframe tbody tr th:only-of-type {\n",
       "        vertical-align: middle;\n",
       "    }\n",
       "\n",
       "    .dataframe tbody tr th {\n",
       "        vertical-align: top;\n",
       "    }\n",
       "\n",
       "    .dataframe thead th {\n",
       "        text-align: right;\n",
       "    }\n",
       "</style>\n",
       "<table border=\"1\" class=\"dataframe\">\n",
       "  <thead>\n",
       "    <tr style=\"text-align: right;\">\n",
       "      <th></th>\n",
       "      <th>1st Block Jayanagar</th>\n",
       "      <th>1st Phase JP Nagar</th>\n",
       "      <th>2nd Phase Judicial Layout</th>\n",
       "      <th>2nd Stage Nagarbhavi</th>\n",
       "      <th>5th Block Hbr Layout</th>\n",
       "      <th>5th Phase JP Nagar</th>\n",
       "      <th>6th Phase JP Nagar</th>\n",
       "      <th>7th Phase JP Nagar</th>\n",
       "      <th>8th Phase JP Nagar</th>\n",
       "      <th>9th Phase JP Nagar</th>\n",
       "      <th>...</th>\n",
       "      <th>Vishveshwarya Layout</th>\n",
       "      <th>Vishwapriya Layout</th>\n",
       "      <th>Vittasandra</th>\n",
       "      <th>Whitefield</th>\n",
       "      <th>Yelachenahalli</th>\n",
       "      <th>Yelahanka</th>\n",
       "      <th>Yelahanka New Town</th>\n",
       "      <th>Yelenahalli</th>\n",
       "      <th>Yeshwanthpur</th>\n",
       "      <th>other</th>\n",
       "    </tr>\n",
       "  </thead>\n",
       "  <tbody>\n",
       "    <tr>\n",
       "      <th>0</th>\n",
       "      <td>1</td>\n",
       "      <td>0</td>\n",
       "      <td>0</td>\n",
       "      <td>0</td>\n",
       "      <td>0</td>\n",
       "      <td>0</td>\n",
       "      <td>0</td>\n",
       "      <td>0</td>\n",
       "      <td>0</td>\n",
       "      <td>0</td>\n",
       "      <td>...</td>\n",
       "      <td>0</td>\n",
       "      <td>0</td>\n",
       "      <td>0</td>\n",
       "      <td>0</td>\n",
       "      <td>0</td>\n",
       "      <td>0</td>\n",
       "      <td>0</td>\n",
       "      <td>0</td>\n",
       "      <td>0</td>\n",
       "      <td>0</td>\n",
       "    </tr>\n",
       "    <tr>\n",
       "      <th>1</th>\n",
       "      <td>1</td>\n",
       "      <td>0</td>\n",
       "      <td>0</td>\n",
       "      <td>0</td>\n",
       "      <td>0</td>\n",
       "      <td>0</td>\n",
       "      <td>0</td>\n",
       "      <td>0</td>\n",
       "      <td>0</td>\n",
       "      <td>0</td>\n",
       "      <td>...</td>\n",
       "      <td>0</td>\n",
       "      <td>0</td>\n",
       "      <td>0</td>\n",
       "      <td>0</td>\n",
       "      <td>0</td>\n",
       "      <td>0</td>\n",
       "      <td>0</td>\n",
       "      <td>0</td>\n",
       "      <td>0</td>\n",
       "      <td>0</td>\n",
       "    </tr>\n",
       "    <tr>\n",
       "      <th>2</th>\n",
       "      <td>1</td>\n",
       "      <td>0</td>\n",
       "      <td>0</td>\n",
       "      <td>0</td>\n",
       "      <td>0</td>\n",
       "      <td>0</td>\n",
       "      <td>0</td>\n",
       "      <td>0</td>\n",
       "      <td>0</td>\n",
       "      <td>0</td>\n",
       "      <td>...</td>\n",
       "      <td>0</td>\n",
       "      <td>0</td>\n",
       "      <td>0</td>\n",
       "      <td>0</td>\n",
       "      <td>0</td>\n",
       "      <td>0</td>\n",
       "      <td>0</td>\n",
       "      <td>0</td>\n",
       "      <td>0</td>\n",
       "      <td>0</td>\n",
       "    </tr>\n",
       "    <tr>\n",
       "      <th>3</th>\n",
       "      <td>1</td>\n",
       "      <td>0</td>\n",
       "      <td>0</td>\n",
       "      <td>0</td>\n",
       "      <td>0</td>\n",
       "      <td>0</td>\n",
       "      <td>0</td>\n",
       "      <td>0</td>\n",
       "      <td>0</td>\n",
       "      <td>0</td>\n",
       "      <td>...</td>\n",
       "      <td>0</td>\n",
       "      <td>0</td>\n",
       "      <td>0</td>\n",
       "      <td>0</td>\n",
       "      <td>0</td>\n",
       "      <td>0</td>\n",
       "      <td>0</td>\n",
       "      <td>0</td>\n",
       "      <td>0</td>\n",
       "      <td>0</td>\n",
       "    </tr>\n",
       "    <tr>\n",
       "      <th>4</th>\n",
       "      <td>1</td>\n",
       "      <td>0</td>\n",
       "      <td>0</td>\n",
       "      <td>0</td>\n",
       "      <td>0</td>\n",
       "      <td>0</td>\n",
       "      <td>0</td>\n",
       "      <td>0</td>\n",
       "      <td>0</td>\n",
       "      <td>0</td>\n",
       "      <td>...</td>\n",
       "      <td>0</td>\n",
       "      <td>0</td>\n",
       "      <td>0</td>\n",
       "      <td>0</td>\n",
       "      <td>0</td>\n",
       "      <td>0</td>\n",
       "      <td>0</td>\n",
       "      <td>0</td>\n",
       "      <td>0</td>\n",
       "      <td>0</td>\n",
       "    </tr>\n",
       "  </tbody>\n",
       "</table>\n",
       "<p>5 rows × 241 columns</p>\n",
       "</div>"
      ],
      "text/plain": [
       "   1st Block Jayanagar  1st Phase JP Nagar  2nd Phase Judicial Layout  \\\n",
       "0                    1                   0                          0   \n",
       "1                    1                   0                          0   \n",
       "2                    1                   0                          0   \n",
       "3                    1                   0                          0   \n",
       "4                    1                   0                          0   \n",
       "\n",
       "   2nd Stage Nagarbhavi  5th Block Hbr Layout  5th Phase JP Nagar  \\\n",
       "0                     0                     0                   0   \n",
       "1                     0                     0                   0   \n",
       "2                     0                     0                   0   \n",
       "3                     0                     0                   0   \n",
       "4                     0                     0                   0   \n",
       "\n",
       "   6th Phase JP Nagar  7th Phase JP Nagar  8th Phase JP Nagar  \\\n",
       "0                   0                   0                   0   \n",
       "1                   0                   0                   0   \n",
       "2                   0                   0                   0   \n",
       "3                   0                   0                   0   \n",
       "4                   0                   0                   0   \n",
       "\n",
       "   9th Phase JP Nagar  ...  Vishveshwarya Layout  Vishwapriya Layout  \\\n",
       "0                   0  ...                     0                   0   \n",
       "1                   0  ...                     0                   0   \n",
       "2                   0  ...                     0                   0   \n",
       "3                   0  ...                     0                   0   \n",
       "4                   0  ...                     0                   0   \n",
       "\n",
       "   Vittasandra  Whitefield  Yelachenahalli  Yelahanka  Yelahanka New Town  \\\n",
       "0            0           0               0          0                   0   \n",
       "1            0           0               0          0                   0   \n",
       "2            0           0               0          0                   0   \n",
       "3            0           0               0          0                   0   \n",
       "4            0           0               0          0                   0   \n",
       "\n",
       "   Yelenahalli  Yeshwanthpur  other  \n",
       "0            0             0      0  \n",
       "1            0             0      0  \n",
       "2            0             0      0  \n",
       "3            0             0      0  \n",
       "4            0             0      0  \n",
       "\n",
       "[5 rows x 241 columns]"
      ]
     },
     "execution_count": 82,
     "metadata": {},
     "output_type": "execute_result"
    }
   ],
   "source": [
    "dummy_df = pd.get_dummies(df10.location)\n",
    "dummy_df.head()"
   ]
  },
  {
   "cell_type": "code",
   "execution_count": 83,
   "id": "88954300",
   "metadata": {
    "execution": {
     "iopub.execute_input": "2022-11-20T05:19:52.646948Z",
     "iopub.status.busy": "2022-11-20T05:19:52.646587Z",
     "iopub.status.idle": "2022-11-20T05:19:52.785209Z",
     "shell.execute_reply": "2022-11-20T05:19:52.783813Z"
    },
    "papermill": {
     "duration": 0.165733,
     "end_time": "2022-11-20T05:19:52.787277",
     "exception": false,
     "start_time": "2022-11-20T05:19:52.621544",
     "status": "completed"
    },
    "tags": []
   },
   "outputs": [
    {
     "data": {
      "text/html": [
       "<div>\n",
       "<style scoped>\n",
       "    .dataframe tbody tr th:only-of-type {\n",
       "        vertical-align: middle;\n",
       "    }\n",
       "\n",
       "    .dataframe tbody tr th {\n",
       "        vertical-align: top;\n",
       "    }\n",
       "\n",
       "    .dataframe thead th {\n",
       "        text-align: right;\n",
       "    }\n",
       "</style>\n",
       "<table border=\"1\" class=\"dataframe\">\n",
       "  <thead>\n",
       "    <tr style=\"text-align: right;\">\n",
       "      <th></th>\n",
       "      <th>total_sqft</th>\n",
       "      <th>bath</th>\n",
       "      <th>price</th>\n",
       "      <th>bhk</th>\n",
       "      <th>1st Phase JP Nagar</th>\n",
       "      <th>2nd Phase Judicial Layout</th>\n",
       "      <th>2nd Stage Nagarbhavi</th>\n",
       "      <th>5th Block Hbr Layout</th>\n",
       "      <th>5th Phase JP Nagar</th>\n",
       "      <th>6th Phase JP Nagar</th>\n",
       "      <th>...</th>\n",
       "      <th>Vishveshwarya Layout</th>\n",
       "      <th>Vishwapriya Layout</th>\n",
       "      <th>Vittasandra</th>\n",
       "      <th>Whitefield</th>\n",
       "      <th>Yelachenahalli</th>\n",
       "      <th>Yelahanka</th>\n",
       "      <th>Yelahanka New Town</th>\n",
       "      <th>Yelenahalli</th>\n",
       "      <th>Yeshwanthpur</th>\n",
       "      <th>other</th>\n",
       "    </tr>\n",
       "  </thead>\n",
       "  <tbody>\n",
       "    <tr>\n",
       "      <th>0</th>\n",
       "      <td>2850.0</td>\n",
       "      <td>4.0</td>\n",
       "      <td>428.0</td>\n",
       "      <td>4</td>\n",
       "      <td>0</td>\n",
       "      <td>0</td>\n",
       "      <td>0</td>\n",
       "      <td>0</td>\n",
       "      <td>0</td>\n",
       "      <td>0</td>\n",
       "      <td>...</td>\n",
       "      <td>0</td>\n",
       "      <td>0</td>\n",
       "      <td>0</td>\n",
       "      <td>0</td>\n",
       "      <td>0</td>\n",
       "      <td>0</td>\n",
       "      <td>0</td>\n",
       "      <td>0</td>\n",
       "      <td>0</td>\n",
       "      <td>0</td>\n",
       "    </tr>\n",
       "    <tr>\n",
       "      <th>1</th>\n",
       "      <td>1630.0</td>\n",
       "      <td>3.0</td>\n",
       "      <td>194.0</td>\n",
       "      <td>3</td>\n",
       "      <td>0</td>\n",
       "      <td>0</td>\n",
       "      <td>0</td>\n",
       "      <td>0</td>\n",
       "      <td>0</td>\n",
       "      <td>0</td>\n",
       "      <td>...</td>\n",
       "      <td>0</td>\n",
       "      <td>0</td>\n",
       "      <td>0</td>\n",
       "      <td>0</td>\n",
       "      <td>0</td>\n",
       "      <td>0</td>\n",
       "      <td>0</td>\n",
       "      <td>0</td>\n",
       "      <td>0</td>\n",
       "      <td>0</td>\n",
       "    </tr>\n",
       "    <tr>\n",
       "      <th>2</th>\n",
       "      <td>1875.0</td>\n",
       "      <td>2.0</td>\n",
       "      <td>235.0</td>\n",
       "      <td>3</td>\n",
       "      <td>0</td>\n",
       "      <td>0</td>\n",
       "      <td>0</td>\n",
       "      <td>0</td>\n",
       "      <td>0</td>\n",
       "      <td>0</td>\n",
       "      <td>...</td>\n",
       "      <td>0</td>\n",
       "      <td>0</td>\n",
       "      <td>0</td>\n",
       "      <td>0</td>\n",
       "      <td>0</td>\n",
       "      <td>0</td>\n",
       "      <td>0</td>\n",
       "      <td>0</td>\n",
       "      <td>0</td>\n",
       "      <td>0</td>\n",
       "    </tr>\n",
       "    <tr>\n",
       "      <th>3</th>\n",
       "      <td>1200.0</td>\n",
       "      <td>2.0</td>\n",
       "      <td>130.0</td>\n",
       "      <td>3</td>\n",
       "      <td>0</td>\n",
       "      <td>0</td>\n",
       "      <td>0</td>\n",
       "      <td>0</td>\n",
       "      <td>0</td>\n",
       "      <td>0</td>\n",
       "      <td>...</td>\n",
       "      <td>0</td>\n",
       "      <td>0</td>\n",
       "      <td>0</td>\n",
       "      <td>0</td>\n",
       "      <td>0</td>\n",
       "      <td>0</td>\n",
       "      <td>0</td>\n",
       "      <td>0</td>\n",
       "      <td>0</td>\n",
       "      <td>0</td>\n",
       "    </tr>\n",
       "    <tr>\n",
       "      <th>4</th>\n",
       "      <td>1235.0</td>\n",
       "      <td>2.0</td>\n",
       "      <td>148.0</td>\n",
       "      <td>2</td>\n",
       "      <td>0</td>\n",
       "      <td>0</td>\n",
       "      <td>0</td>\n",
       "      <td>0</td>\n",
       "      <td>0</td>\n",
       "      <td>0</td>\n",
       "      <td>...</td>\n",
       "      <td>0</td>\n",
       "      <td>0</td>\n",
       "      <td>0</td>\n",
       "      <td>0</td>\n",
       "      <td>0</td>\n",
       "      <td>0</td>\n",
       "      <td>0</td>\n",
       "      <td>0</td>\n",
       "      <td>0</td>\n",
       "      <td>0</td>\n",
       "    </tr>\n",
       "  </tbody>\n",
       "</table>\n",
       "<p>5 rows × 244 columns</p>\n",
       "</div>"
      ],
      "text/plain": [
       "   total_sqft  bath  price  bhk  1st Phase JP Nagar  \\\n",
       "0      2850.0   4.0  428.0    4                   0   \n",
       "1      1630.0   3.0  194.0    3                   0   \n",
       "2      1875.0   2.0  235.0    3                   0   \n",
       "3      1200.0   2.0  130.0    3                   0   \n",
       "4      1235.0   2.0  148.0    2                   0   \n",
       "\n",
       "   2nd Phase Judicial Layout  2nd Stage Nagarbhavi  5th Block Hbr Layout  \\\n",
       "0                          0                     0                     0   \n",
       "1                          0                     0                     0   \n",
       "2                          0                     0                     0   \n",
       "3                          0                     0                     0   \n",
       "4                          0                     0                     0   \n",
       "\n",
       "   5th Phase JP Nagar  6th Phase JP Nagar  ...  Vishveshwarya Layout  \\\n",
       "0                   0                   0  ...                     0   \n",
       "1                   0                   0  ...                     0   \n",
       "2                   0                   0  ...                     0   \n",
       "3                   0                   0  ...                     0   \n",
       "4                   0                   0  ...                     0   \n",
       "\n",
       "   Vishwapriya Layout  Vittasandra  Whitefield  Yelachenahalli  Yelahanka  \\\n",
       "0                   0            0           0               0          0   \n",
       "1                   0            0           0               0          0   \n",
       "2                   0            0           0               0          0   \n",
       "3                   0            0           0               0          0   \n",
       "4                   0            0           0               0          0   \n",
       "\n",
       "   Yelahanka New Town  Yelenahalli  Yeshwanthpur  other  \n",
       "0                   0            0             0      0  \n",
       "1                   0            0             0      0  \n",
       "2                   0            0             0      0  \n",
       "3                   0            0             0      0  \n",
       "4                   0            0             0      0  \n",
       "\n",
       "[5 rows x 244 columns]"
      ]
     },
     "execution_count": 83,
     "metadata": {},
     "output_type": "execute_result"
    }
   ],
   "source": [
    "final_df = pd.concat([df10.drop(\"location\", axis = 1), dummy_df.drop(\"1st Block Jayanagar\", axis = 1)], axis = 1)\n",
    "final_df.head()"
   ]
  },
  {
   "cell_type": "markdown",
   "id": "3341c391",
   "metadata": {
    "execution": {
     "iopub.execute_input": "2022-11-20T05:19:52.836779Z",
     "iopub.status.busy": "2022-11-20T05:19:52.836157Z",
     "iopub.status.idle": "2022-11-20T05:19:52.841354Z",
     "shell.execute_reply": "2022-11-20T05:19:52.840150Z"
    },
    "papermill": {
     "duration": 0.032121,
     "end_time": "2022-11-20T05:19:52.843581",
     "exception": false,
     "start_time": "2022-11-20T05:19:52.811460",
     "status": "completed"
    },
    "tags": []
   },
   "source": [
    "Building The Model"
   ]
  },
  {
   "cell_type": "code",
   "execution_count": 84,
   "id": "ed21057a",
   "metadata": {
    "execution": {
     "iopub.execute_input": "2022-11-20T05:19:52.891073Z",
     "iopub.status.busy": "2022-11-20T05:19:52.890744Z",
     "iopub.status.idle": "2022-11-20T05:19:52.899241Z",
     "shell.execute_reply": "2022-11-20T05:19:52.897359Z"
    },
    "papermill": {
     "duration": 0.035324,
     "end_time": "2022-11-20T05:19:52.901715",
     "exception": false,
     "start_time": "2022-11-20T05:19:52.866391",
     "status": "completed"
    },
    "tags": []
   },
   "outputs": [
    {
     "data": {
      "text/plain": [
       "(7239, 244)"
      ]
     },
     "execution_count": 84,
     "metadata": {},
     "output_type": "execute_result"
    }
   ],
   "source": [
    "final_df.shape"
   ]
  },
  {
   "cell_type": "code",
   "execution_count": 85,
   "id": "293baa82",
   "metadata": {
    "execution": {
     "iopub.execute_input": "2022-11-20T05:19:52.949013Z",
     "iopub.status.busy": "2022-11-20T05:19:52.948694Z",
     "iopub.status.idle": "2022-11-20T05:19:52.956232Z",
     "shell.execute_reply": "2022-11-20T05:19:52.954813Z"
    },
    "papermill": {
     "duration": 0.034132,
     "end_time": "2022-11-20T05:19:52.958444",
     "exception": false,
     "start_time": "2022-11-20T05:19:52.924312",
     "status": "completed"
    },
    "tags": []
   },
   "outputs": [],
   "source": [
    "X = final_df.drop(\"price\", axis=1)\n",
    "y = final_df[\"price\"]"
   ]
  },
  {
   "cell_type": "code",
   "execution_count": 86,
   "id": "1655ef5b",
   "metadata": {
    "execution": {
     "iopub.execute_input": "2022-11-20T05:19:53.005068Z",
     "iopub.status.busy": "2022-11-20T05:19:53.003999Z",
     "iopub.status.idle": "2022-11-20T05:19:54.124551Z",
     "shell.execute_reply": "2022-11-20T05:19:54.123445Z"
    },
    "papermill": {
     "duration": 1.146233,
     "end_time": "2022-11-20T05:19:54.126705",
     "exception": false,
     "start_time": "2022-11-20T05:19:52.980472",
     "status": "completed"
    },
    "tags": []
   },
   "outputs": [],
   "source": [
    "from sklearn.model_selection import train_test_split\n",
    "X_train, X_test, y_train, y_test = train_test_split(X,y, test_size = 0.2, random_state=10)"
   ]
  },
  {
   "cell_type": "code",
   "execution_count": 87,
   "id": "bd4c77a2",
   "metadata": {},
   "outputs": [],
   "source": [
    "#DecisionTreeRegressor\n",
    "from sklearn.tree import DecisionTreeRegressor\n",
    "\n",
    "#model selection\n",
    "from sklearn.metrics import accuracy_score,precision_score,confusion_matrix,classification_report"
   ]
  },
  {
   "cell_type": "code",
   "execution_count": 88,
   "id": "7e18eba8",
   "metadata": {},
   "outputs": [
    {
     "data": {
      "text/plain": [
       "DecisionTreeRegressor()"
      ]
     },
     "execution_count": 88,
     "metadata": {},
     "output_type": "execute_result"
    }
   ],
   "source": [
    "regressor1 = DecisionTreeRegressor()\n",
    "regressor1.fit(X_train, y_train)"
   ]
  },
  {
   "cell_type": "code",
   "execution_count": 89,
   "id": "e9a61353",
   "metadata": {},
   "outputs": [
    {
     "name": "stdout",
     "output_type": "stream",
     "text": [
      "training score 0.9924641586257006\n",
      "testing score 0.7696453668414345\n"
     ]
    }
   ],
   "source": [
    "print('training score', regressor1.score(X_train, y_train))\n",
    "print('testing score', regressor1.score(X_test, y_test))"
   ]
  },
  {
   "cell_type": "code",
   "execution_count": 90,
   "id": "64408935",
   "metadata": {},
   "outputs": [
    {
     "name": "stdout",
     "output_type": "stream",
     "text": [
      "[104.25 125.    52.   ...  69.5   71.05  95.  ]\n"
     ]
    }
   ],
   "source": [
    "ypred_m1 = regressor1.predict(X_test)\n",
    "print(ypred_m1)"
   ]
  },
  {
   "cell_type": "code",
   "execution_count": 91,
   "id": "735c5539",
   "metadata": {},
   "outputs": [],
   "source": [
    "from sklearn import metrics \n",
    "def print_error(x_test, y_test, model_name): \n",
    "    prediction = model_name.predict(x_test) \n",
    "    print('Mean Absolute Error:', metrics.mean_absolute_error(y_test, prediction))   \n",
    "    print('Mean Squared Error:', metrics.mean_squared_error(y_test, prediction))  \n",
    "    print('Root Mean Squared Error:', np.sqrt(metrics.mean_squared_error(y_test, prediction))) "
   ]
  },
  {
   "cell_type": "code",
   "execution_count": 92,
   "id": "441b2e9d",
   "metadata": {},
   "outputs": [
    {
     "name": "stdout",
     "output_type": "stream",
     "text": [
      "Mean Absolute Error: 17.455214910185735\n",
      "Mean Squared Error: 1194.828110501168\n",
      "Root Mean Squared Error: 34.566285749284205\n"
     ]
    }
   ],
   "source": [
    "print_error(X_test,y_test,regressor1) "
   ]
  },
  {
   "cell_type": "code",
   "execution_count": 93,
   "id": "cc4e7494",
   "metadata": {},
   "outputs": [
    {
     "name": "stdout",
     "output_type": "stream",
     "text": [
      "0.7696453668414345\n"
     ]
    }
   ],
   "source": [
    "from sklearn.metrics import r2_score\n",
    "print(r2_score(y_test, ypred_m1))"
   ]
  },
  {
   "cell_type": "code",
   "execution_count": 94,
   "id": "45120314",
   "metadata": {},
   "outputs": [
    {
     "data": {
      "text/plain": [
       "0.7616430543528667"
      ]
     },
     "execution_count": 94,
     "metadata": {},
     "output_type": "execute_result"
    }
   ],
   "source": [
    "Adj_r2 = 1 - (1-r2_score(y_test, ypred_m1)) * (len(y)-1)/(len(y)-X.shape[1]-1)\n",
    "Adj_r2"
   ]
  },
  {
   "cell_type": "code",
   "execution_count": 95,
   "id": "eeeabd1b",
   "metadata": {},
   "outputs": [],
   "source": [
    "#LinearRegressor\n",
    "from sklearn.linear_model import LinearRegression"
   ]
  },
  {
   "cell_type": "code",
   "execution_count": 96,
   "id": "33e07eac",
   "metadata": {},
   "outputs": [
    {
     "data": {
      "text/plain": [
       "LinearRegression()"
      ]
     },
     "execution_count": 96,
     "metadata": {},
     "output_type": "execute_result"
    }
   ],
   "source": [
    "regressor2 = LinearRegression()\n",
    "regressor2.fit(X_train, y_train)"
   ]
  },
  {
   "cell_type": "code",
   "execution_count": 97,
   "id": "a1bc999b",
   "metadata": {},
   "outputs": [
    {
     "name": "stdout",
     "output_type": "stream",
     "text": [
      "training score 0.8523137584485154\n",
      "testing score 0.862913224522931\n"
     ]
    }
   ],
   "source": [
    "print('training score', regressor2.score(X_train, y_train))\n",
    "print('testing score', regressor2.score(X_test, y_test))"
   ]
  },
  {
   "cell_type": "code",
   "execution_count": 98,
   "id": "abc51b02",
   "metadata": {},
   "outputs": [],
   "source": [
    "#LassoRegressor\n",
    "from sklearn import linear_model"
   ]
  },
  {
   "cell_type": "code",
   "execution_count": 99,
   "id": "61465b44",
   "metadata": {},
   "outputs": [
    {
     "data": {
      "text/plain": [
       "Lasso(alpha=0.1)"
      ]
     },
     "execution_count": 99,
     "metadata": {},
     "output_type": "execute_result"
    }
   ],
   "source": [
    "regressor3 = linear_model.Lasso(alpha=0.1)\n",
    "regressor3.fit(X_train, y_train)"
   ]
  },
  {
   "cell_type": "code",
   "execution_count": 100,
   "id": "9e468588",
   "metadata": {},
   "outputs": [
    {
     "name": "stdout",
     "output_type": "stream",
     "text": [
      "training score 0.8204544282480979\n",
      "testing score 0.8046331358251284\n"
     ]
    }
   ],
   "source": [
    "print('training score', regressor3.score(X_train, y_train))\n",
    "print('testing score', regressor3.score(X_test, y_test))"
   ]
  },
  {
   "cell_type": "code",
   "execution_count": 101,
   "id": "8e545232",
   "metadata": {},
   "outputs": [],
   "source": [
    "#RandomForestRegressor\n",
    "from sklearn.ensemble import RandomForestRegressor"
   ]
  },
  {
   "cell_type": "code",
   "execution_count": 102,
   "id": "e6db7456",
   "metadata": {},
   "outputs": [
    {
     "data": {
      "text/plain": [
       "RandomForestRegressor()"
      ]
     },
     "execution_count": 102,
     "metadata": {},
     "output_type": "execute_result"
    }
   ],
   "source": [
    "regressor4 = RandomForestRegressor()\n",
    "regressor4.fit(X_train, y_train)"
   ]
  },
  {
   "cell_type": "code",
   "execution_count": 103,
   "id": "bb384f96",
   "metadata": {},
   "outputs": [
    {
     "name": "stdout",
     "output_type": "stream",
     "text": [
      "training score 0.9687280765766293\n",
      "testing score 0.8282314345049744\n"
     ]
    }
   ],
   "source": [
    "print('training score', regressor4.score(X_train, y_train))\n",
    "print('testing score', regressor4.score(X_test, y_test))"
   ]
  },
  {
   "cell_type": "code",
   "execution_count": 104,
   "id": "3ce548db",
   "metadata": {},
   "outputs": [],
   "source": [
    "#KNNRegressor\n",
    "from sklearn.neighbors import KNeighborsRegressor"
   ]
  },
  {
   "cell_type": "code",
   "execution_count": 105,
   "id": "9f829f8b",
   "metadata": {},
   "outputs": [
    {
     "data": {
      "text/plain": [
       "KNeighborsRegressor(n_neighbors=3)"
      ]
     },
     "execution_count": 105,
     "metadata": {},
     "output_type": "execute_result"
    }
   ],
   "source": [
    "regressor5 = KNeighborsRegressor(n_neighbors=3)\n",
    "regressor5.fit(X_train, y_train)"
   ]
  },
  {
   "cell_type": "code",
   "execution_count": 106,
   "id": "63c82201",
   "metadata": {},
   "outputs": [
    {
     "name": "stdout",
     "output_type": "stream",
     "text": [
      "training score 0.8520155881899731\n",
      "testing score 0.7067621252382651\n"
     ]
    }
   ],
   "source": [
    "print('training score', regressor5.score(X_train, y_train))\n",
    "print('testing score', regressor5.score(X_test, y_test))"
   ]
  },
  {
   "cell_type": "code",
   "execution_count": 107,
   "id": "b2e078cb",
   "metadata": {},
   "outputs": [
    {
     "data": {
      "text/html": [
       "<div>\n",
       "<style scoped>\n",
       "    .dataframe tbody tr th:only-of-type {\n",
       "        vertical-align: middle;\n",
       "    }\n",
       "\n",
       "    .dataframe tbody tr th {\n",
       "        vertical-align: top;\n",
       "    }\n",
       "\n",
       "    .dataframe thead th {\n",
       "        text-align: right;\n",
       "    }\n",
       "</style>\n",
       "<table border=\"1\" class=\"dataframe\">\n",
       "  <thead>\n",
       "    <tr style=\"text-align: right;\">\n",
       "      <th></th>\n",
       "      <th>ModelAlgo</th>\n",
       "      <th>Accuracy</th>\n",
       "    </tr>\n",
       "  </thead>\n",
       "  <tbody>\n",
       "    <tr>\n",
       "      <th>0</th>\n",
       "      <td>DecisionTree</td>\n",
       "      <td>0.753788</td>\n",
       "    </tr>\n",
       "    <tr>\n",
       "      <th>1</th>\n",
       "      <td>Linear</td>\n",
       "      <td>0.862913</td>\n",
       "    </tr>\n",
       "    <tr>\n",
       "      <th>2</th>\n",
       "      <td>Lasso</td>\n",
       "      <td>0.804633</td>\n",
       "    </tr>\n",
       "    <tr>\n",
       "      <th>3</th>\n",
       "      <td>Randomforest</td>\n",
       "      <td>0.825517</td>\n",
       "    </tr>\n",
       "    <tr>\n",
       "      <th>4</th>\n",
       "      <td>KNN</td>\n",
       "      <td>0.706762</td>\n",
       "    </tr>\n",
       "  </tbody>\n",
       "</table>\n",
       "</div>"
      ],
      "text/plain": [
       "      ModelAlgo  Accuracy\n",
       "0  DecisionTree  0.753788\n",
       "1        Linear  0.862913\n",
       "2         Lasso  0.804633\n",
       "3  Randomforest  0.825517\n",
       "4           KNN  0.706762"
      ]
     },
     "execution_count": 107,
     "metadata": {},
     "output_type": "execute_result"
    }
   ],
   "source": [
    "data = [['DecisionTree', 0.753788], ['Linear', 0.862913], ['Lasso', 0.804633], ['Randomforest', 0.825517],['KNN',0.706762]]\n",
    "df = pd.DataFrame(data, columns = ['ModelAlgo', 'Accuracy'])\n",
    "df"
   ]
  },
  {
   "cell_type": "code",
   "execution_count": 108,
   "id": "d706a077",
   "metadata": {},
   "outputs": [
    {
     "data": {
      "text/plain": [
       "<AxesSubplot:xlabel='Accuracy', ylabel='ModelAlgo'>"
      ]
     },
     "execution_count": 108,
     "metadata": {},
     "output_type": "execute_result"
    },
    {
     "data": {
      "image/png": "[encoded data removed]",
      "text/plain": [
       "<Figure size 1080x720 with 1 Axes>"
      ]
     },
     "metadata": {
      "needs_background": "light"
     },
     "output_type": "display_data"
    }
   ],
   "source": [
    "sns.barplot(y='ModelAlgo',x='Accuracy',data=df)"
   ]
  },
  {
   "cell_type": "markdown",
   "id": "792f01eb",
   "metadata": {},
   "source": [
    "<font size=\"5\"><span style=\"color:blue\"><b>conclusion:</b></span></font><span style=\"color:red\" ><font size = \"5\">Based on above results we can say that LinearRegression gives the best score about 86%. Hence we will use that</font></span>"
   ]
  }
 ],
 "metadata": {
  "kernelspec": {
   "display_name": "Python 3 (ipykernel)",
   "language": "python",
   "name": "python3"
  },
  "language_info": {
   "codemirror_mode": {
    "name": "ipython",
    "version": 3
   },
   "file_extension": ".py",
   "mimetype": "text/x-python",
   "name": "python",
   "nbconvert_exporter": "python",
   "pygments_lexer": "ipython3",
   "version": "3.9.12"
  },
  "papermill": {
   "default_parameters": {},
   "duration": 22.507945,
   "end_time": "2022-11-20T05:20:01.248183",
   "environment_variables": {},
   "exception": null,
   "input_path": "__notebook__.ipynb",
   "output_path": "__notebook__.ipynb",
   "parameters": {},
   "start_time": "2022-11-20T05:19:38.740238",
   "version": "2.3.4"
  }
 },
 "nbformat": 4,
 "nbformat_minor": 5
}
